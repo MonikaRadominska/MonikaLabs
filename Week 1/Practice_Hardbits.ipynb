{
 "cells": [
  {
   "cell_type": "code",
   "execution_count": null,
   "id": "28895e74",
   "metadata": {},
   "outputs": [],
   "source": [
    "#Print students with names ending with a\n",
    "for student in students:\n",
    "    if ( student[-1]=='a'):\n",
    "        print(student)"
   ]
  },
  {
   "cell_type": "code",
   "execution_count": null,
   "id": "bea301e0",
   "metadata": {},
   "outputs": [],
   "source": [
    "#split the first name from last\n",
    "for student in students:\n",
    "    student_split = student.split()\n",
    "    ## populating the first names \n",
    "    student_names.append(student_split[0])\n",
    "    ## populating the seond list which contains the last names \n",
    "    student_surnames.append(student_split[-1])"
   ]
  },
  {
   "cell_type": "code",
   "execution_count": 1,
   "id": "63a3c4d3",
   "metadata": {},
   "outputs": [],
   "source": [
    "#dictionary\n",
    "ages = {\"Leo\": 19,\n",
    "        \"Aleks\":18,\n",
    "        \"Sandra\":21\n",
    "       }"
   ]
  },
  {
   "cell_type": "code",
   "execution_count": 2,
   "id": "2c268e47",
   "metadata": {
    "scrolled": true
   },
   "outputs": [
    {
     "name": "stdout",
     "output_type": "stream",
     "text": [
      "Leo\n",
      "Aleks\n",
      "Sandra\n"
     ]
    }
   ],
   "source": [
    "for i in ages:\n",
    "    print(i)"
   ]
  },
  {
   "cell_type": "code",
   "execution_count": 3,
   "id": "55c1bc66",
   "metadata": {},
   "outputs": [
    {
     "name": "stdout",
     "output_type": "stream",
     "text": [
      "Leo is 19 years old.\n",
      "Aleks is 18 years old.\n",
      "Sandra is 21 years old.\n"
     ]
    }
   ],
   "source": [
    "for teacher in ages.keys():\n",
    "    print(teacher + \" is \" + str(ages[teacher]) + \" years old.\")"
   ]
  },
  {
   "cell_type": "code",
   "execution_count": 4,
   "id": "077c1648",
   "metadata": {},
   "outputs": [
    {
     "name": "stdout",
     "output_type": "stream",
     "text": [
      "Leo is 19 years old \n",
      "Aleks is 18 years old \n",
      "Sandra is 21 years old \n"
     ]
    }
   ],
   "source": [
    "for i,j in ages.items():\n",
    "    print (i + \" is \"+ str(j) +\" years old \")"
   ]
  },
  {
   "cell_type": "code",
   "execution_count": 11,
   "id": "f017edce",
   "metadata": {},
   "outputs": [],
   "source": [
    "teachers_dict = {\n",
    "    \"Leo\":{\n",
    "        \"age\": 21,\n",
    "        \"role\":\"TA\",\n",
    "        \"city_residence\":\"NYC\"\n",
    "    },\n",
    "    \"Aleks\":{\n",
    "        \"age\":18,\n",
    "        \"role\":\"LT\",\n",
    "        \"city_residence\":\"Berlin\"\n",
    "    },\n",
    "    \"Sandra\":{\n",
    "        \"age\": 19,\n",
    "        \"role\":\"TA\",\n",
    "        \"city_residence\":\"San Luis\"\n",
    "    }\n",
    "}\n"
   ]
  },
  {
   "cell_type": "code",
   "execution_count": 10,
   "id": "b1d9c139",
   "metadata": {},
   "outputs": [
    {
     "data": {
      "text/plain": [
       "'NYC'"
      ]
     },
     "execution_count": 10,
     "metadata": {},
     "output_type": "execute_result"
    }
   ],
   "source": [
    "teachers_dict['Leo']['city_residence']"
   ]
  },
  {
   "cell_type": "code",
   "execution_count": 15,
   "id": "39e5e72c",
   "metadata": {},
   "outputs": [
    {
     "name": "stdout",
     "output_type": "stream",
     "text": [
      "Aleks lives in Berlin\n"
     ]
    }
   ],
   "source": [
    "for teacher in teachers_dict.keys():\n",
    "    teacher_Info=teachers_dict[teacher]\n",
    "    if teacher_Info[\"city_residence\"] == \"Berlin\":\n",
    "        print(teacher + \" lives in Berlin\")"
   ]
  },
  {
   "cell_type": "code",
   "execution_count": 16,
   "id": "60637d75",
   "metadata": {},
   "outputs": [
    {
     "name": "stdout",
     "output_type": "stream",
     "text": [
      "0\n",
      "1\n",
      "2\n",
      "3\n",
      "4\n"
     ]
    }
   ],
   "source": [
    "for i in range(5):\n",
    "    print(i)"
   ]
  },
  {
   "cell_type": "code",
   "execution_count": null,
   "id": "85459a41",
   "metadata": {},
   "outputs": [],
   "source": []
  }
 ],
 "metadata": {
  "kernelspec": {
   "display_name": "Python 3 (ipykernel)",
   "language": "python",
   "name": "python3"
  },
  "language_info": {
   "codemirror_mode": {
    "name": "ipython",
    "version": 3
   },
   "file_extension": ".py",
   "mimetype": "text/x-python",
   "name": "python",
   "nbconvert_exporter": "python",
   "pygments_lexer": "ipython3",
   "version": "3.9.13"
  }
 },
 "nbformat": 4,
 "nbformat_minor": 5
}
