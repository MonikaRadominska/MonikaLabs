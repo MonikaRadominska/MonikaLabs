{
 "cells": [
  {
   "cell_type": "code",
   "execution_count": null,
   "id": "3c0a58a9",
   "metadata": {},
   "outputs": [],
   "source": [
    "#### 1. Import the numpy package under the name `np` (★☆☆)\n"
   ]
  },
  {
   "cell_type": "code",
   "execution_count": 1,
   "id": "2fa19a98",
   "metadata": {},
   "outputs": [],
   "source": [
    "import numpy as np"
   ]
  },
  {
   "cell_type": "code",
   "execution_count": null,
   "id": "34b55e37",
   "metadata": {},
   "outputs": [],
   "source": [
    "#### 2. Create a null vector of size 10 (★☆☆)"
   ]
  },
  {
   "cell_type": "code",
   "execution_count": 2,
   "id": "b64d02bb",
   "metadata": {
    "scrolled": true
   },
   "outputs": [
    {
     "name": "stdout",
     "output_type": "stream",
     "text": [
      "[0. 0. 0. 0. 0. 0. 0. 0. 0. 0.]\n"
     ]
    }
   ],
   "source": [
    "null_vector = np.zeros(10)\n",
    "print(null_vector)"
   ]
  },
  {
   "cell_type": "code",
   "execution_count": null,
   "id": "cb7757d4",
   "metadata": {},
   "outputs": [],
   "source": [
    "#### 3. Create a null vector of size 10 but the fifth value which is 1 (★☆☆)"
   ]
  },
  {
   "cell_type": "code",
   "execution_count": 3,
   "id": "6beaab4c",
   "metadata": {},
   "outputs": [
    {
     "name": "stdout",
     "output_type": "stream",
     "text": [
      "[0 0 0 0 0 1 0 0 0 0]\n"
     ]
    }
   ],
   "source": [
    "null_vector_1 = np.array([0,0,0,0,0,1,0,0,0,0])\n",
    "print(null_vector_1)"
   ]
  },
  {
   "cell_type": "code",
   "execution_count": null,
   "id": "19e9fe3d",
   "metadata": {},
   "outputs": [],
   "source": [
    "#### 4. Create a vector with values ranging from 10 to 49 (★☆☆)"
   ]
  },
  {
   "cell_type": "code",
   "execution_count": 4,
   "id": "2888a2b8",
   "metadata": {},
   "outputs": [
    {
     "name": "stdout",
     "output_type": "stream",
     "text": [
      "[10 11 12 13 14 15 16 17 18 19 20 21 22 23 24 25 26 27 28 29 30 31 32 33\n",
      " 34 35 36 37 38 39 40 41 42 43 44 45 46 47 48 49]\n"
     ]
    }
   ],
   "source": [
    "new_vector = np.arange(10,50)\n",
    "print(new_vector)"
   ]
  },
  {
   "cell_type": "code",
   "execution_count": null,
   "id": "a5cf12f8",
   "metadata": {},
   "outputs": [],
   "source": [
    "#### 5. Create a 3x3 matrix with values ranging from 0 to 8 (★☆☆)"
   ]
  },
  {
   "cell_type": "code",
   "execution_count": 5,
   "id": "a643e11b",
   "metadata": {},
   "outputs": [
    {
     "name": "stdout",
     "output_type": "stream",
     "text": [
      "[[0 1 2]\n",
      " [3 4 5]\n",
      " [6 7 8]]\n"
     ]
    }
   ],
   "source": [
    "new_matrix = np.arange(0, 9).reshape((3, 3))\n",
    "print(new_matrix)"
   ]
  },
  {
   "cell_type": "code",
   "execution_count": null,
   "id": "b2d9c4a7",
   "metadata": {},
   "outputs": [],
   "source": [
    "#### 6. Find indices of non-zero elements from [1,2,0,0,4,0] (★☆☆)"
   ]
  },
  {
   "cell_type": "code",
   "execution_count": 17,
   "id": "b7c1302d",
   "metadata": {},
   "outputs": [
    {
     "name": "stdout",
     "output_type": "stream",
     "text": [
      "(array([0, 1, 4], dtype=int64),)\n"
     ]
    }
   ],
   "source": [
    "a = [1,2,0,0,4,0]\n",
    "b =np.nonzero(a)\n",
    "print(b)"
   ]
  },
  {
   "cell_type": "code",
   "execution_count": null,
   "id": "31ef8763",
   "metadata": {},
   "outputs": [],
   "source": [
    "#### 7. Create a 3x3 identity matrix (★☆☆)"
   ]
  },
  {
   "cell_type": "code",
   "execution_count": 18,
   "id": "2dc74842",
   "metadata": {
    "scrolled": true
   },
   "outputs": [
    {
     "name": "stdout",
     "output_type": "stream",
     "text": [
      "[[1. 0. 0.]\n",
      " [0. 1. 0.]\n",
      " [0. 0. 1.]]\n"
     ]
    }
   ],
   "source": [
    "c = np.eye(3,3)\n",
    "print(c)"
   ]
  },
  {
   "cell_type": "code",
   "execution_count": null,
   "id": "c1855f28",
   "metadata": {},
   "outputs": [],
   "source": [
    "#### 8. Create a 3x3x3 array with random values (★☆☆)"
   ]
  },
  {
   "cell_type": "code",
   "execution_count": 23,
   "id": "0f1e5dbd",
   "metadata": {},
   "outputs": [
    {
     "name": "stdout",
     "output_type": "stream",
     "text": [
      "[[[0.38344152 0.79172504 0.52889492]\n",
      "  [0.56804456 0.92559664 0.07103606]\n",
      "  [0.0871293  0.0202184  0.83261985]]\n",
      "\n",
      " [[0.77815675 0.87001215 0.97861834]\n",
      "  [0.79915856 0.46147936 0.78052918]\n",
      "  [0.11827443 0.63992102 0.14335329]]\n",
      "\n",
      " [[0.94466892 0.52184832 0.41466194]\n",
      "  [0.26455561 0.77423369 0.45615033]\n",
      "  [0.56843395 0.0187898  0.6176355 ]]]\n"
     ]
    }
   ],
   "source": [
    "d = np.random.random((3,3,3))\n",
    "print(d)"
   ]
  },
  {
   "cell_type": "code",
   "execution_count": null,
   "id": "fafc39f7",
   "metadata": {},
   "outputs": [],
   "source": [
    "#### 9. Create a 10x10 array with random values and find the minimum and maximum values (★☆☆)"
   ]
  },
  {
   "cell_type": "code",
   "execution_count": 6,
   "id": "23d880b1",
   "metadata": {},
   "outputs": [
    {
     "name": "stdout",
     "output_type": "stream",
     "text": [
      "[[0.89356273 0.03753486 0.46773718 0.49844967 0.76725796 0.06672267\n",
      "  0.17318553 0.43820365 0.80036683 0.22556948]\n",
      " [0.06866158 0.91861721 0.86595397 0.65202513 0.81685621 0.78386039\n",
      "  0.20043423 0.38265389 0.53165418 0.29190337]\n",
      " [0.51639554 0.04634539 0.29286932 0.86008512 0.94315696 0.38315854\n",
      "  0.66594273 0.77185968 0.24496197 0.23744249]\n",
      " [0.46185373 0.52654592 0.18961421 0.20735215 0.49865079 0.76294446\n",
      "  0.36534336 0.99166931 0.58270468 0.29074253]\n",
      " [0.99767027 0.63479896 0.84676351 0.85113874 0.69677936 0.64515094\n",
      "  0.16762549 0.59599992 0.45568888 0.45955771]\n",
      " [0.7445004  0.20688814 0.63743613 0.96599994 0.75237384 0.59013401\n",
      "  0.44604309 0.82478122 0.29029659 0.67301418]\n",
      " [0.96663109 0.8190817  0.03882852 0.6866433  0.13667042 0.88060469\n",
      "  0.64568457 0.55121478 0.03509015 0.3561311 ]\n",
      " [0.60549505 0.99924612 0.81899953 0.97547562 0.13600304 0.18228821\n",
      "  0.64390709 0.31392557 0.79674142 0.20328246]\n",
      " [0.37239169 0.61001136 0.11988498 0.14475149 0.89787791 0.93357171\n",
      "  0.24813563 0.05365849 0.1085777  0.3900422 ]\n",
      " [0.70221585 0.3924108  0.63588683 0.43468477 0.11473507 0.0892069\n",
      "  0.35294106 0.50339838 0.2660474  0.77324899]]\n"
     ]
    }
   ],
   "source": [
    "e = np.random.random((10,10))\n",
    "print(e)"
   ]
  },
  {
   "cell_type": "code",
   "execution_count": 29,
   "id": "e70c9087",
   "metadata": {},
   "outputs": [
    {
     "name": "stdout",
     "output_type": "stream",
     "text": [
      "0.019193198309333526\n"
     ]
    }
   ],
   "source": [
    "#min val\n",
    "f = np.amin(e)\n",
    "print(f)"
   ]
  },
  {
   "cell_type": "code",
   "execution_count": 30,
   "id": "aa03eb89",
   "metadata": {
    "scrolled": true
   },
   "outputs": [
    {
     "name": "stdout",
     "output_type": "stream",
     "text": [
      "0.9560836347232239\n"
     ]
    }
   ],
   "source": [
    "#max val\n",
    "g = np.amax(e)\n",
    "print(g)"
   ]
  },
  {
   "cell_type": "code",
   "execution_count": null,
   "id": "43f70af1",
   "metadata": {},
   "outputs": [],
   "source": [
    "#### 10. Create a random vector of size 30 and find the mean value (★☆☆)"
   ]
  },
  {
   "cell_type": "code",
   "execution_count": 8,
   "id": "6139abf4",
   "metadata": {
    "scrolled": true
   },
   "outputs": [
    {
     "name": "stdout",
     "output_type": "stream",
     "text": [
      "[[0.82140354 0.17307466 0.98870148 0.23581198 0.76527002]\n",
      " [0.60898767 0.90553168 0.14212246 0.52031245 0.04139835]\n",
      " [0.22101559 0.28752471 0.34158165 0.23887088 0.27495661]\n",
      " [0.13207626 0.8982878  0.51397144 0.18774107 0.07061577]\n",
      " [0.3285516  0.26828992 0.3983015  0.19759814 0.20861323]\n",
      " [0.52840415 0.63139331 0.9207324  0.78945832 0.42902741]]\n"
     ]
    }
   ],
   "source": [
    "h = np.random.random((6,5))\n",
    "print(h)"
   ]
  },
  {
   "cell_type": "code",
   "execution_count": 32,
   "id": "6b7cb4ad",
   "metadata": {},
   "outputs": [
    {
     "data": {
      "text/plain": [
       "0.6112261397292997"
      ]
     },
     "execution_count": 32,
     "metadata": {},
     "output_type": "execute_result"
    }
   ],
   "source": [
    "#mean value \n",
    "np.mean(h)"
   ]
  },
  {
   "cell_type": "code",
   "execution_count": null,
   "id": "f5a42238",
   "metadata": {},
   "outputs": [],
   "source": [
    "#### 11. Create a 5x5 matrix with values 1,2,3,4 just below the diagonal (★☆☆)"
   ]
  },
  {
   "cell_type": "code",
   "execution_count": 10,
   "id": "f53ee707",
   "metadata": {},
   "outputs": [
    {
     "name": "stdout",
     "output_type": "stream",
     "text": [
      "[[0 0 0 0 0]\n",
      " [1 0 0 0 0]\n",
      " [0 2 0 0 0]\n",
      " [0 0 3 0 0]\n",
      " [0 0 0 4 0]]\n"
     ]
    }
   ],
   "source": [
    "j = np.diag(np.arange(1,5),k =-1)\n",
    "print(j)"
   ]
  },
  {
   "cell_type": "code",
   "execution_count": null,
   "id": "04521738",
   "metadata": {},
   "outputs": [],
   "source": [
    "#### 12. Normalize a 5x5 random matrix (★☆☆)"
   ]
  },
  {
   "cell_type": "code",
   "execution_count": 13,
   "id": "01f36503",
   "metadata": {
    "scrolled": true
   },
   "outputs": [
    {
     "name": "stdout",
     "output_type": "stream",
     "text": [
      "[[0.95879358 0.7931379  0.39350294 0.78926174 0.6541358 ]\n",
      " [0.26171826 0.97912731 0.00934988 0.61566251 0.55464566]\n",
      " [0.59160611 0.6576305  0.571707   0.59805664 0.24388142]\n",
      " [0.44728844 0.4639261  0.68517465 0.4298789  0.34531541]\n",
      " [0.13618189 0.0159563  0.8287384  0.01157683 0.38723266]]\n"
     ]
    }
   ],
   "source": [
    "k = np.random.random((5,5))\n",
    "print(k)\n",
    "l = np.mean(k)\n",
    "#print(l)\n",
    "m = np.std(k)"
   ]
  },
  {
   "cell_type": "code",
   "execution_count": 14,
   "id": "a8bfdbae",
   "metadata": {},
   "outputs": [],
   "source": [
    "matrix = (k - np.mean(k)/np.std(k))"
   ]
  },
  {
   "cell_type": "code",
   "execution_count": 18,
   "id": "cf82bb5e",
   "metadata": {},
   "outputs": [
    {
     "name": "stdout",
     "output_type": "stream",
     "text": [
      "[[ 1.23255258 -1.08026077 -0.96963045  1.54216765 -1.37123989]\n",
      " [ 0.24506905  1.53311665  0.15165824 -1.33046015 -1.18464589]\n",
      " [ 0.66468682 -0.5297252  -0.1317504   0.04862419  0.88259024]\n",
      " [ 1.5439917   0.97754069  1.27861318 -1.32901629 -0.968031  ]\n",
      " [-0.54153093  0.7077213  -0.83410304  0.3118529  -0.84979119]]\n"
     ]
    }
   ],
   "source": [
    "n = (k-l)/m\n",
    "print(n)"
   ]
  },
  {
   "cell_type": "code",
   "execution_count": null,
   "id": "7949137f",
   "metadata": {},
   "outputs": [],
   "source": []
  },
  {
   "cell_type": "code",
   "execution_count": null,
   "id": "e2066480",
   "metadata": {},
   "outputs": [],
   "source": [
    "#### 13. How to find common values between two arrays? (★☆☆)"
   ]
  },
  {
   "cell_type": "code",
   "execution_count": 29,
   "id": "5b70d53c",
   "metadata": {
    "scrolled": true
   },
   "outputs": [
    {
     "name": "stdout",
     "output_type": "stream",
     "text": [
      "[[0 1 2]\n",
      " [3 4 5]\n",
      " [6 7 8]] \n",
      "\n",
      "[[ 7  8  9]\n",
      " [10 11 12]\n",
      " [13 14 15]]\n"
     ]
    }
   ],
   "source": [
    "o = np.arange(0,9).reshape(3, 3)\n",
    "p = np.arange(7,16).reshape(3,3)\n",
    "print(o, \"\\n\")\n",
    "print(p)"
   ]
  },
  {
   "cell_type": "code",
   "execution_count": 30,
   "id": "70e9faca",
   "metadata": {},
   "outputs": [
    {
     "data": {
      "text/plain": [
       "array([7, 8])"
      ]
     },
     "execution_count": 30,
     "metadata": {},
     "output_type": "execute_result"
    }
   ],
   "source": [
    "np.intersect1d(o, p)"
   ]
  },
  {
   "cell_type": "code",
   "execution_count": null,
   "id": "5ad9f07d",
   "metadata": {},
   "outputs": [],
   "source": [
    "#### 14. Create a random vector of size 10 and sort it (★★☆)"
   ]
  },
  {
   "cell_type": "code",
   "execution_count": 39,
   "id": "f0a2a711",
   "metadata": {},
   "outputs": [
    {
     "name": "stdout",
     "output_type": "stream",
     "text": [
      "[0.96549239 0.35430795 0.9279083  0.47175094 0.15219023 0.83370561\n",
      " 0.5261954  0.53231226 0.4839792  0.04928771]\n"
     ]
    }
   ],
   "source": [
    "r = np.random.random(10)\n",
    "print(r)"
   ]
  },
  {
   "cell_type": "code",
   "execution_count": 40,
   "id": "28369617",
   "metadata": {},
   "outputs": [
    {
     "data": {
      "text/plain": [
       "array([0.04928771, 0.15219023, 0.35430795, 0.47175094, 0.4839792 ,\n",
       "       0.5261954 , 0.53231226, 0.83370561, 0.9279083 , 0.96549239])"
      ]
     },
     "execution_count": 40,
     "metadata": {},
     "output_type": "execute_result"
    }
   ],
   "source": [
    "np.sort(r)"
   ]
  },
  {
   "cell_type": "code",
   "execution_count": null,
   "id": "0ba1f6f1",
   "metadata": {},
   "outputs": [],
   "source": [
    "#### 15. Create random vector of size 10 and replace the maximum value by 0 (★★☆)"
   ]
  },
  {
   "cell_type": "code",
   "execution_count": 53,
   "id": "a4bda438",
   "metadata": {},
   "outputs": [
    {
     "name": "stdout",
     "output_type": "stream",
     "text": [
      "[0.907146   0.38378635 0.92368516 0.55620784 0.44455617 0.47562555\n",
      " 0.29095809 0.65213988 0.43351911 0.95415636]\n"
     ]
    }
   ],
   "source": [
    "s = np.random.random(10)\n",
    "print(s)"
   ]
  },
  {
   "cell_type": "code",
   "execution_count": 56,
   "id": "7f81ac34",
   "metadata": {
    "scrolled": true
   },
   "outputs": [
    {
     "data": {
      "text/plain": [
       "array([0.907146  , 0.38378635, 0.        , 0.55620784, 0.44455617,\n",
       "       0.47562555, 0.29095809, 0.65213988, 0.43351911, 0.        ])"
      ]
     },
     "execution_count": 56,
     "metadata": {},
     "output_type": "execute_result"
    }
   ],
   "source": [
    "s[s.argmax()]=0\n",
    "s"
   ]
  },
  {
   "cell_type": "code",
   "execution_count": null,
   "id": "02c2924c",
   "metadata": {},
   "outputs": [],
   "source": [
    "#### 16. Subtract the mean of each row of a matrix (★★☆)"
   ]
  },
  {
   "cell_type": "code",
   "execution_count": 63,
   "id": "3c938907",
   "metadata": {},
   "outputs": [
    {
     "name": "stdout",
     "output_type": "stream",
     "text": [
      "[[0.90274984 0.16634418 0.56168107]\n",
      " [0.11670586 0.15211499 0.90614594]\n",
      " [0.4248357  0.6075144  0.4315169 ]]\n"
     ]
    }
   ],
   "source": [
    "t = np.random.rand(3,3)\n",
    "print(t)"
   ]
  },
  {
   "cell_type": "code",
   "execution_count": 65,
   "id": "3fac9c0a",
   "metadata": {},
   "outputs": [
    {
     "name": "stdout",
     "output_type": "stream",
     "text": [
      "[[ 0.35915814 -0.37724751  0.01808937]\n",
      " [-0.27494974 -0.23954061  0.51449034]\n",
      " [-0.06311997  0.11955874 -0.05643877]]\n"
     ]
    }
   ],
   "source": [
    "t -= np.mean(t, axis = 1, keepdims = True)\n",
    "print(t)"
   ]
  },
  {
   "cell_type": "code",
   "execution_count": null,
   "id": "2f12b622",
   "metadata": {},
   "outputs": [],
   "source": [
    "#### 17. How to get the n largest values of an array (★★★)"
   ]
  },
  {
   "cell_type": "code",
   "execution_count": null,
   "id": "c010232b",
   "metadata": {},
   "outputs": [],
   "source": [
    "#Z = np.arange(10000)\n",
    "#np.random.shuffle(Z)\n",
    "#n = 5\n",
    "#hint: np.argsort | np.argpartition"
   ]
  },
  {
   "cell_type": "code",
   "execution_count": 23,
   "id": "ef9f4874",
   "metadata": {},
   "outputs": [
    {
     "name": "stdout",
     "output_type": "stream",
     "text": [
      "[6002 6050 4501 ... 6517 6971 1652]\n"
     ]
    }
   ],
   "source": [
    "Z = np.arange(10000)\n",
    "np.random.shuffle(Z)\n",
    "n = 5\n",
    "print(Z)"
   ]
  },
  {
   "cell_type": "code",
   "execution_count": 20,
   "id": "50d84015",
   "metadata": {},
   "outputs": [
    {
     "name": "stdout",
     "output_type": "stream",
     "text": [
      "[9995 9996 9997 9998 9999]\n"
     ]
    }
   ],
   "source": [
    "print(Z[np.argsort(Z)[-n:]])"
   ]
  },
  {
   "cell_type": "code",
   "execution_count": 21,
   "id": "0b711523",
   "metadata": {},
   "outputs": [
    {
     "name": "stdout",
     "output_type": "stream",
     "text": [
      "[9998 9999 9997 9996 9995]\n"
     ]
    }
   ],
   "source": [
    "print(Z[np.argpartition(-Z,n)[:n]])"
   ]
  },
  {
   "cell_type": "code",
   "execution_count": null,
   "id": "efc89894",
   "metadata": {},
   "outputs": [],
   "source": [
    "#### 18. Create a random 5*3 matrix and replace items that are larger than 4 by their squares ( Example:  6 --> 36) "
   ]
  },
  {
   "cell_type": "code",
   "execution_count": 30,
   "id": "d6759545",
   "metadata": {},
   "outputs": [
    {
     "name": "stdout",
     "output_type": "stream",
     "text": [
      "[[0.92241184 0.55291101 0.71748347]\n",
      " [0.47232077 0.73562999 0.597057  ]\n",
      " [0.77454304 0.80817059 0.79108895]\n",
      " [0.59901036 0.21909577 0.37112912]\n",
      " [0.99345751 0.34971949 0.02823405]]\n"
     ]
    }
   ],
   "source": [
    "w = np.random.random((5,3))\n",
    "print(w)"
   ]
  },
  {
   "cell_type": "code",
   "execution_count": 31,
   "id": "64121883",
   "metadata": {},
   "outputs": [
    {
     "name": "stdout",
     "output_type": "stream",
     "text": [
      "[[0.92241184 0.55291101 0.71748347]\n",
      " [0.47232077 0.73562999 0.597057  ]\n",
      " [0.77454304 0.80817059 0.79108895]\n",
      " [0.59901036 0.21909577 0.37112912]\n",
      " [0.99345751 0.34971949 0.02823405]]\n"
     ]
    }
   ],
   "source": [
    "y = np.where(w > 4, w**2, w)\n",
    "print(y)"
   ]
  }
 ],
 "metadata": {
  "kernelspec": {
   "display_name": "Python 3 (ipykernel)",
   "language": "python",
   "name": "python3"
  },
  "language_info": {
   "codemirror_mode": {
    "name": "ipython",
    "version": 3
   },
   "file_extension": ".py",
   "mimetype": "text/x-python",
   "name": "python",
   "nbconvert_exporter": "python",
   "pygments_lexer": "ipython3",
   "version": "3.9.13"
  }
 },
 "nbformat": 4,
 "nbformat_minor": 5
}
