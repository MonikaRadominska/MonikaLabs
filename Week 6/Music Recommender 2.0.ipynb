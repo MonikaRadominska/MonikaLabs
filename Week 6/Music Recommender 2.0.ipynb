{
 "cells": [
  {
   "cell_type": "markdown",
   "id": "f0d64034",
   "metadata": {},
   "source": [
    "# Music recommender"
   ]
  },
  {
   "cell_type": "markdown",
   "id": "3b041883",
   "metadata": {},
   "source": [
    "### Importing libraries"
   ]
  },
  {
   "cell_type": "code",
   "execution_count": 1,
   "id": "6fe9dffd",
   "metadata": {},
   "outputs": [],
   "source": [
    "import config"
   ]
  },
  {
   "cell_type": "code",
   "execution_count": 2,
   "id": "e5ec97a8",
   "metadata": {},
   "outputs": [],
   "source": [
    "import spotipy\n",
    "import json\n",
    "from spotipy.oauth2 import SpotifyClientCredentials\n",
    "import pprint\n",
    "\n",
    "#Initialize SpotiPy with user credentials\n",
    "sp = spotipy.Spotify(auth_manager=SpotifyClientCredentials(client_id= config.client_id,\n",
    "                                                           client_secret= config.client_secret))\n",
    "\n",
    "# The \"sp\" variable has two useful funtions:\n",
    "# The first usefull function is:\n",
    "# .search(q='',limit=n)\n",
    "# .search(q=\"track:\"+song_name+\" artist:\"+artist_name,limit=5) to restrict to a song name and artist.\n",
    "# Where the \"q\" keyword is the query you want to perform on spotify: song_name, artist,...\n",
    "# while The \"limit\" keyword will limit the number of returned results.\n",
    "#\n",
    "# The second usefull function is:\n",
    "# .audio_features([URL|URI|ID])\n",
    "# which returns some 'features of the song', that after cleanup, we can use in order to characterize a song.\n"
   ]
  },
  {
   "cell_type": "code",
   "execution_count": 3,
   "id": "31c6a5a7",
   "metadata": {},
   "outputs": [],
   "source": [
    "import numpy as np\n",
    "import pandas as pd\n",
    "import pickle\n",
    "from sklearn import datasets # sklearn comes with some toy datasets to practice\n",
    "from sklearn.preprocessing import StandardScaler as scaler\n",
    "from sklearn.cluster import KMeans\n",
    "from matplotlib import pyplot\n",
    "from sklearn.metrics import silhouette_score"
   ]
  },
  {
   "cell_type": "code",
   "execution_count": 4,
   "id": "e4c6f064",
   "metadata": {},
   "outputs": [],
   "source": [
    "from bs4 import BeautifulSoup\n",
    "import requests\n",
    "import pandas as pd\n",
    "import sys"
   ]
  },
  {
   "cell_type": "code",
   "execution_count": 5,
   "id": "0a0b2e1c",
   "metadata": {},
   "outputs": [
    {
     "ename": "NameError",
     "evalue": "name 'url' is not defined",
     "output_type": "error",
     "traceback": [
      "\u001b[1;31m---------------------------------------------------------------------------\u001b[0m",
      "\u001b[1;31mNameError\u001b[0m                                 Traceback (most recent call last)",
      "\u001b[1;32m~\\AppData\\Local\\Temp\\ipykernel_22068\\3020577216.py\u001b[0m in \u001b[0;36m<module>\u001b[1;34m\u001b[0m\n\u001b[1;32m----> 1\u001b[1;33m \u001b[0msoup\u001b[0m \u001b[1;33m=\u001b[0m \u001b[0mBeautifulSoup\u001b[0m\u001b[1;33m(\u001b[0m\u001b[0murl\u001b[0m\u001b[1;33m,\u001b[0m \u001b[1;34m'html.parser'\u001b[0m\u001b[1;33m)\u001b[0m\u001b[1;33m\u001b[0m\u001b[1;33m\u001b[0m\u001b[0m\n\u001b[0m\u001b[0;32m      2\u001b[0m \u001b[0mresponse\u001b[0m \u001b[1;33m=\u001b[0m \u001b[0mrequests\u001b[0m\u001b[1;33m.\u001b[0m\u001b[0mget\u001b[0m\u001b[1;33m(\u001b[0m\u001b[0murl\u001b[0m\u001b[1;33m)\u001b[0m\u001b[1;33m\u001b[0m\u001b[1;33m\u001b[0m\u001b[0m\n\u001b[0;32m      3\u001b[0m \u001b[0mresponse\u001b[0m\u001b[1;33m.\u001b[0m\u001b[0mstatus_code\u001b[0m\u001b[1;33m\u001b[0m\u001b[1;33m\u001b[0m\u001b[0m\n",
      "\u001b[1;31mNameError\u001b[0m: name 'url' is not defined"
     ]
    }
   ],
   "source": [
    "soup = BeautifulSoup(url, 'html.parser') \n",
    "response = requests.get(url)\n",
    "response.status_code"
   ]
  },
  {
   "cell_type": "code",
   "execution_count": null,
   "id": "6d7656ee",
   "metadata": {},
   "outputs": [],
   "source": [
    "import numpy as np\n",
    "import pandas as pd\n",
    "import pickle\n",
    "from sklearn import datasets # sklearn comes with some toy datasets to practice\n",
    "from sklearn.preprocessing import StandardScaler\n",
    "from sklearn.cluster import KMeans\n",
    "from matplotlib import pyplot\n",
    "from sklearn.metrics import silhouette_score"
   ]
  },
  {
   "cell_type": "code",
   "execution_count": null,
   "id": "4f488293",
   "metadata": {},
   "outputs": [],
   "source": [
    "recom_music = pd.read_csv('music_final.csv')"
   ]
  },
  {
   "cell_type": "code",
   "execution_count": null,
   "id": "f3012672",
   "metadata": {},
   "outputs": [],
   "source": [
    "recom_music = recom_music.drop(['id'], axis = 1)\n",
    "recom_music = recom_music.drop(['Unnamed: 0'], axis = 1)\n",
    "recom_music = recom_music.drop(['index'], axis =1)"
   ]
  },
  {
   "cell_type": "code",
   "execution_count": null,
   "id": "60c2a20c",
   "metadata": {},
   "outputs": [],
   "source": [
    "recom_music"
   ]
  },
  {
   "cell_type": "code",
   "execution_count": null,
   "id": "d18d2d34",
   "metadata": {},
   "outputs": [],
   "source": [
    "X = recom_music "
   ]
  },
  {
   "cell_type": "code",
   "execution_count": null,
   "id": "cc2c3bcf",
   "metadata": {
    "scrolled": true
   },
   "outputs": [],
   "source": [
    "scaler = StandardScaler()\n",
    "scaler.fit(X)\n",
    "X_scaled = scaler.transform(X)\n",
    "X_scaled_df = pd.DataFrame(X_scaled, columns = X.columns)\n",
    "display(X.head())\n",
    "print()\n",
    "display(X_scaled_df.head())"
   ]
  },
  {
   "cell_type": "code",
   "execution_count": null,
   "id": "df48be17",
   "metadata": {},
   "outputs": [],
   "source": [
    "kmeans = KMeans(n_clusters=5, random_state=42)\n",
    "kmeans.fit(X_scaled_df)"
   ]
  },
  {
   "cell_type": "code",
   "execution_count": null,
   "id": "6cdcc2f6",
   "metadata": {},
   "outputs": [],
   "source": [
    "kmeans.labels_"
   ]
  },
  {
   "cell_type": "code",
   "execution_count": null,
   "id": "0fe6df8d",
   "metadata": {},
   "outputs": [],
   "source": [
    "labels = kmeans.labels_"
   ]
  },
  {
   "cell_type": "code",
   "execution_count": null,
   "id": "59eb1482",
   "metadata": {},
   "outputs": [],
   "source": [
    "np.unique(labels)"
   ]
  },
  {
   "cell_type": "code",
   "execution_count": null,
   "id": "3389ca01",
   "metadata": {
    "scrolled": true
   },
   "outputs": [],
   "source": [
    "# assign a cluster to each example\n",
    "labels = kmeans.predict(X_scaled_df)\n",
    "# retrieve unique clusters\n",
    "clusters = np.unique(labels)\n",
    "# create scatter plot for samples from each cluster\n",
    "for cluster in clusters:\n",
    "    # get row indexes for samples with this cluster\n",
    "    row_ix = np.where(labels == cluster)\n",
    "    # create scatter of these samples\n",
    "    pyplot.scatter(X.to_numpy()[row_ix, 1], X.to_numpy()[row_ix, 3])\n",
    "    # show the plot\n",
    "pyplot.show()"
   ]
  },
  {
   "cell_type": "code",
   "execution_count": null,
   "id": "9f505b59",
   "metadata": {},
   "outputs": [],
   "source": [
    "clusters = kmeans.predict(X_scaled_df)\n",
    "#clusters\n",
    "pd.Series(clusters).value_counts().sort_index()"
   ]
  },
  {
   "cell_type": "code",
   "execution_count": null,
   "id": "88ef80a5",
   "metadata": {
    "scrolled": true
   },
   "outputs": [],
   "source": [
    "#X_df = pd.DataFrame(X)\n",
    "X[\"cluster\"] = clusters\n",
    "X"
   ]
  },
  {
   "cell_type": "code",
   "execution_count": null,
   "id": "d8ff806f",
   "metadata": {
    "scrolled": true
   },
   "outputs": [],
   "source": [
    "music_final = pd.read_csv('music_final.csv')\n",
    "music_id = music_final['id']\n",
    "music_id"
   ]
  },
  {
   "cell_type": "code",
   "execution_count": null,
   "id": "50890098",
   "metadata": {},
   "outputs": [],
   "source": [
    "X = pd.read_csv('music_clustered_with_id.csv')\n",
    "X = X.drop(['Unnamed: 0'], axis = 1)\n",
    "X"
   ]
  },
  {
   "cell_type": "markdown",
   "id": "f9e637e3",
   "metadata": {},
   "source": [
    "###  Music player"
   ]
  },
  {
   "cell_type": "code",
   "execution_count": null,
   "id": "69f0c0c0",
   "metadata": {},
   "outputs": [],
   "source": [
    "track_id=results[\"tracks\"][\"items\"][0][\"id\"]\n",
    "track_id"
   ]
  },
  {
   "cell_type": "code",
   "execution_count": null,
   "id": "77755181",
   "metadata": {
    "scrolled": true
   },
   "outputs": [],
   "source": [
    "from IPython.display import IFrame\n",
    "\n",
    "#track_id = \"1rfORa9iYmocEsnnZGMVC4\"\n",
    "#track_id= 'spotify:track:3hgl7EQwTutSm6PESsB7gZ'\n",
    "IFrame(src=\"https://open.spotify.com/embed/track/\"+track_id,\n",
    "       width=\"320\",\n",
    "       height=\"80\",\n",
    "       frameborder=\"0\",\n",
    "       allowtransparency=\"true\",\n",
    "       allow=\"encrypted-media\",\n",
    "      )"
   ]
  },
  {
   "cell_type": "code",
   "execution_count": null,
   "id": "bfadd32a",
   "metadata": {},
   "outputs": [],
   "source": [
    "def play_song(track_id):\n",
    "    return IFrame(src=\"https://open.spotify.com/embed/track/\"+track_id,\n",
    "       width=\"320\",\n",
    "       height=\"80\",\n",
    "       frameborder=\"0\",\n",
    "       allowtransparency=\"true\",\n",
    "       allow=\"encrypted-media\",\n",
    "      )"
   ]
  },
  {
   "cell_type": "code",
   "execution_count": null,
   "id": "03525aa6",
   "metadata": {},
   "outputs": [],
   "source": [
    "play_song(\"track_id\")"
   ]
  },
  {
   "cell_type": "code",
   "execution_count": null,
   "id": "50053f7f",
   "metadata": {},
   "outputs": [],
   "source": []
  },
  {
   "cell_type": "markdown",
   "id": "9a1b42a0",
   "metadata": {},
   "source": [
    "### DF for the top 100 hot songs"
   ]
  },
  {
   "cell_type": "code",
   "execution_count": null,
   "id": "92631011",
   "metadata": {},
   "outputs": [],
   "source": [
    "Bilboard_100 = pd.read_csv('Bilboard_100.csv')\n",
    "titles = Bilboard_100['Song_Title']\n",
    "artists = Bilboard_100['Artist_Name']"
   ]
  },
  {
   "cell_type": "code",
   "execution_count": null,
   "id": "e4d13f4a",
   "metadata": {},
   "outputs": [],
   "source": [
    "low_titles = all_lower(titles)\n",
    "low_artists = all_lower(artists)"
   ]
  },
  {
   "cell_type": "markdown",
   "id": "f6cc2505",
   "metadata": {},
   "source": [
    "### DF for songs from dif genres"
   ]
  },
  {
   "cell_type": "code",
   "execution_count": null,
   "id": "b931a2d9",
   "metadata": {},
   "outputs": [],
   "source": [
    "X = pd.read_csv('music_clustered_with_id.csv')\n",
    "X = X.drop(['Unnamed: 0'], axis =1)\n",
    "X"
   ]
  },
  {
   "cell_type": "markdown",
   "id": "f99bee75",
   "metadata": {},
   "source": [
    "# The song recommender"
   ]
  },
  {
   "cell_type": "code",
   "execution_count": null,
   "id": "d47684c0",
   "metadata": {},
   "outputs": [],
   "source": [
    "# The recommender\n",
    "#user inputs a song or artist\n",
    "#is the song hot? if yes - recommend another from the top 100 list \n",
    "#if no: \n",
    "\n",
    "#should be able to handle typos, upper and lower cases or understand string thats incomplete (fuzzy wuzzy) "
   ]
  },
  {
   "cell_type": "code",
   "execution_count": null,
   "id": "43d8a073",
   "metadata": {},
   "outputs": [],
   "source": [
    "def all_lower(list):\n",
    "    return [x.lower() for x in list]"
   ]
  },
  {
   "cell_type": "code",
   "execution_count": null,
   "id": "87842a3b",
   "metadata": {},
   "outputs": [],
   "source": [
    "def get_audio_feature(x):\n",
    "    find_a_song = sp.search(x, limit=1, market=\"GB\")\n",
    "    song_features_dict_df = pd.DataFrame(sp.audio_features(find_a_song[\"tracks\"][\"items\"][0][\"id\"]))\n",
    "    song_features_dict_df = song_features_dict_df.drop(['key', 'mode', 'type', 'uri', 'track_href', 'analysis_url', 'time_signature', 'id'], axis=1)\n",
    "    return song_features_dict_df"
   ]
  },
  {
   "cell_type": "code",
   "execution_count": null,
   "id": "35997966",
   "metadata": {},
   "outputs": [],
   "source": [
    "def hot_song(x):\n",
    "    song_id = sp.search(x, limit=1, market=\"GB\")\n",
    "    return song_id"
   ]
  },
  {
   "cell_type": "code",
   "execution_count": null,
   "id": "7adfe2e2",
   "metadata": {},
   "outputs": [],
   "source": [
    "hot_song(\"Flower\")[\"tracks\"][\"items\"][0][\"id\"]"
   ]
  },
  {
   "cell_type": "code",
   "execution_count": null,
   "id": "39a03eea",
   "metadata": {},
   "outputs": [],
   "source": [
    "import random\n",
    "from thefuzz import fuzz\n",
    "from thefuzz import process\n",
    "\n"
   ]
  },
  {
   "cell_type": "code",
   "execution_count": null,
   "id": "8ff9f3e8",
   "metadata": {
    "scrolled": true
   },
   "outputs": [],
   "source": [
    "song_choice = input(\"Please type the name of a song: \").lower()\n",
    "\n",
    "\n",
    "for song in titles + low_titles + artists + low_artists:\n",
    "    if fuzz.partial_ratio(song_choice, song.lower()) >= 80:\n",
    "        another_song = random.choice(titles)        \n",
    "        song_player = hot_song(another_song)[\"tracks\"][\"items\"][0][\"id\"]\n",
    "        break\n",
    "        \n",
    "    else:\n",
    "        # get the audio feature by running a function, calling user_input\n",
    "        song_features_dict_df = get_audio_feature(song_choice)\n",
    "        # transform them\n",
    "        song_features_scaled = scaler.transform(song_features_dict_df)\n",
    "        song_features_scaled_df = pd.DataFrame(song_features_scaled, columns = song_features_dict_df.columns)\n",
    "        # predict\n",
    "        cluster = kmeans.predict(song_features_scaled_df)\n",
    "        cluster = cluster[0]\n",
    "        # recommend it\n",
    "         # get random song\n",
    "        random_song_with_same_cluster = X[(X['cluster'] == cluster)].sample(n=1)\n",
    "         # get the id of this song\n",
    "        song_player= str(random_song_with_same_cluster['id'].values[0])\n",
    "        # play it\n",
    "        \n",
    "play_song(song_player)\n"
   ]
  }
 ],
 "metadata": {
  "kernelspec": {
   "display_name": "Python 3 (ipykernel)",
   "language": "python",
   "name": "python3"
  },
  "language_info": {
   "codemirror_mode": {
    "name": "ipython",
    "version": 3
   },
   "file_extension": ".py",
   "mimetype": "text/x-python",
   "name": "python",
   "nbconvert_exporter": "python",
   "pygments_lexer": "ipython3",
   "version": "3.9.13"
  }
 },
 "nbformat": 4,
 "nbformat_minor": 5
}
