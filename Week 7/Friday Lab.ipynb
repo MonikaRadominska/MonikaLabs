{
 "cells": [
  {
   "cell_type": "markdown",
   "id": "2aeb1073",
   "metadata": {},
   "source": [
    "# Random forest classifier and tuning hyperparameters"
   ]
  },
  {
   "cell_type": "code",
   "execution_count": 27,
   "id": "55209572",
   "metadata": {},
   "outputs": [],
   "source": [
    "import pandas as pd\n",
    "from matplotlib import pyplot as plt\n",
    "from sklearn.model_selection import train_test_split\n",
    "from sklearn.neighbors import KNeighborsClassifier\n",
    "from sklearn.metrics import plot_confusion_matrix\n",
    "from sklearn.metrics import accuracy_score, precision_score, recall_score\n",
    "\n",
    "import warnings\n",
    "warnings.filterwarnings(\"ignore\", category=FutureWarning)\n",
    "\n",
    "%matplotlib inline\n",
    "\n",
    "pd.set_option('display.max_columns', None)\n",
    "import warnings\n",
    "warnings.filterwarnings('ignore')\n",
    "warnings.simplefilter(action='ignore', category=FutureWarning)\n",
    "## multiple outputs\n",
    "from IPython.core.interactiveshell import InteractiveShell\n",
    "InteractiveShell.ast_node_interactivity = \"all\"\n",
    "\n",
    "from sklearn.model_selection import train_test_split\n",
    "import numpy as np\n"
   ]
  },
  {
   "cell_type": "code",
   "execution_count": 2,
   "id": "0f9263a1",
   "metadata": {},
   "outputs": [],
   "source": [
    "churnData = pd.read_csv('DATA_Customer-Churn.csv')"
   ]
  },
  {
   "cell_type": "code",
   "execution_count": 28,
   "id": "6425b17e",
   "metadata": {
    "scrolled": true
   },
   "outputs": [
    {
     "name": "stdout",
     "output_type": "stream",
     "text": [
      "<class 'pandas.core.frame.DataFrame'>\n",
      "RangeIndex: 7043 entries, 0 to 7042\n",
      "Data columns (total 16 columns):\n",
      " #   Column            Non-Null Count  Dtype  \n",
      "---  ------            --------------  -----  \n",
      " 0   gender            7043 non-null   object \n",
      " 1   SeniorCitizen     7043 non-null   int64  \n",
      " 2   Partner           7043 non-null   object \n",
      " 3   Dependents        7043 non-null   object \n",
      " 4   tenure            7043 non-null   int64  \n",
      " 5   PhoneService      7043 non-null   object \n",
      " 6   OnlineSecurity    7043 non-null   object \n",
      " 7   OnlineBackup      7043 non-null   object \n",
      " 8   DeviceProtection  7043 non-null   object \n",
      " 9   TechSupport       7043 non-null   object \n",
      " 10  StreamingTV       7043 non-null   object \n",
      " 11  StreamingMovies   7043 non-null   object \n",
      " 12  Contract          7043 non-null   object \n",
      " 13  MonthlyCharges    7043 non-null   float64\n",
      " 14  TotalCharges      7043 non-null   float64\n",
      " 15  Churn             7043 non-null   object \n",
      "dtypes: float64(2), int64(2), object(12)\n",
      "memory usage: 880.5+ KB\n"
     ]
    }
   ],
   "source": [
    "churnData.info()"
   ]
  },
  {
   "cell_type": "code",
   "execution_count": 4,
   "id": "3bd189a0",
   "metadata": {},
   "outputs": [
    {
     "data": {
      "text/html": [
       "<div>\n",
       "<style scoped>\n",
       "    .dataframe tbody tr th:only-of-type {\n",
       "        vertical-align: middle;\n",
       "    }\n",
       "\n",
       "    .dataframe tbody tr th {\n",
       "        vertical-align: top;\n",
       "    }\n",
       "\n",
       "    .dataframe thead th {\n",
       "        text-align: right;\n",
       "    }\n",
       "</style>\n",
       "<table border=\"1\" class=\"dataframe\">\n",
       "  <thead>\n",
       "    <tr style=\"text-align: right;\">\n",
       "      <th></th>\n",
       "      <th>SeniorCitizen</th>\n",
       "      <th>tenure</th>\n",
       "      <th>MonthlyCharges</th>\n",
       "    </tr>\n",
       "  </thead>\n",
       "  <tbody>\n",
       "    <tr>\n",
       "      <th>count</th>\n",
       "      <td>7043.000000</td>\n",
       "      <td>7043.000000</td>\n",
       "      <td>7043.000000</td>\n",
       "    </tr>\n",
       "    <tr>\n",
       "      <th>mean</th>\n",
       "      <td>0.162147</td>\n",
       "      <td>32.371149</td>\n",
       "      <td>64.761692</td>\n",
       "    </tr>\n",
       "    <tr>\n",
       "      <th>std</th>\n",
       "      <td>0.368612</td>\n",
       "      <td>24.559481</td>\n",
       "      <td>30.090047</td>\n",
       "    </tr>\n",
       "    <tr>\n",
       "      <th>min</th>\n",
       "      <td>0.000000</td>\n",
       "      <td>0.000000</td>\n",
       "      <td>18.250000</td>\n",
       "    </tr>\n",
       "    <tr>\n",
       "      <th>25%</th>\n",
       "      <td>0.000000</td>\n",
       "      <td>9.000000</td>\n",
       "      <td>35.500000</td>\n",
       "    </tr>\n",
       "    <tr>\n",
       "      <th>50%</th>\n",
       "      <td>0.000000</td>\n",
       "      <td>29.000000</td>\n",
       "      <td>70.350000</td>\n",
       "    </tr>\n",
       "    <tr>\n",
       "      <th>75%</th>\n",
       "      <td>0.000000</td>\n",
       "      <td>55.000000</td>\n",
       "      <td>89.850000</td>\n",
       "    </tr>\n",
       "    <tr>\n",
       "      <th>max</th>\n",
       "      <td>1.000000</td>\n",
       "      <td>72.000000</td>\n",
       "      <td>118.750000</td>\n",
       "    </tr>\n",
       "  </tbody>\n",
       "</table>\n",
       "</div>"
      ],
      "text/plain": [
       "       SeniorCitizen       tenure  MonthlyCharges\n",
       "count    7043.000000  7043.000000     7043.000000\n",
       "mean        0.162147    32.371149       64.761692\n",
       "std         0.368612    24.559481       30.090047\n",
       "min         0.000000     0.000000       18.250000\n",
       "25%         0.000000     9.000000       35.500000\n",
       "50%         0.000000    29.000000       70.350000\n",
       "75%         0.000000    55.000000       89.850000\n",
       "max         1.000000    72.000000      118.750000"
      ]
     },
     "execution_count": 4,
     "metadata": {},
     "output_type": "execute_result"
    }
   ],
   "source": [
    "churnData.describe()"
   ]
  },
  {
   "cell_type": "code",
   "execution_count": 6,
   "id": "e61869e7",
   "metadata": {},
   "outputs": [],
   "source": [
    "churnData['TotalCharges'] = pd.to_numeric(churnData['TotalCharges'], errors='coerce')"
   ]
  },
  {
   "cell_type": "code",
   "execution_count": 7,
   "id": "2cc65033",
   "metadata": {},
   "outputs": [
    {
     "data": {
      "text/plain": [
       "0         29.85\n",
       "1       1889.50\n",
       "2        108.15\n",
       "3       1840.75\n",
       "4        151.65\n",
       "         ...   \n",
       "7038    1990.50\n",
       "7039    7362.90\n",
       "7040     346.45\n",
       "7041     306.60\n",
       "7042    6844.50\n",
       "Name: TotalCharges, Length: 7043, dtype: float64"
      ]
     },
     "execution_count": 7,
     "metadata": {},
     "output_type": "execute_result"
    }
   ],
   "source": [
    "churnData['TotalCharges']"
   ]
  },
  {
   "cell_type": "code",
   "execution_count": 8,
   "id": "dc977508",
   "metadata": {},
   "outputs": [
    {
     "data": {
      "text/html": [
       "<div>\n",
       "<style scoped>\n",
       "    .dataframe tbody tr th:only-of-type {\n",
       "        vertical-align: middle;\n",
       "    }\n",
       "\n",
       "    .dataframe tbody tr th {\n",
       "        vertical-align: top;\n",
       "    }\n",
       "\n",
       "    .dataframe thead th {\n",
       "        text-align: right;\n",
       "    }\n",
       "</style>\n",
       "<table border=\"1\" class=\"dataframe\">\n",
       "  <thead>\n",
       "    <tr style=\"text-align: right;\">\n",
       "      <th></th>\n",
       "      <th>SeniorCitizen</th>\n",
       "      <th>tenure</th>\n",
       "      <th>MonthlyCharges</th>\n",
       "      <th>TotalCharges</th>\n",
       "    </tr>\n",
       "  </thead>\n",
       "  <tbody>\n",
       "    <tr>\n",
       "      <th>0</th>\n",
       "      <td>0</td>\n",
       "      <td>1</td>\n",
       "      <td>29.85</td>\n",
       "      <td>29.85</td>\n",
       "    </tr>\n",
       "    <tr>\n",
       "      <th>1</th>\n",
       "      <td>0</td>\n",
       "      <td>34</td>\n",
       "      <td>56.95</td>\n",
       "      <td>1889.50</td>\n",
       "    </tr>\n",
       "    <tr>\n",
       "      <th>2</th>\n",
       "      <td>0</td>\n",
       "      <td>2</td>\n",
       "      <td>53.85</td>\n",
       "      <td>108.15</td>\n",
       "    </tr>\n",
       "    <tr>\n",
       "      <th>3</th>\n",
       "      <td>0</td>\n",
       "      <td>45</td>\n",
       "      <td>42.30</td>\n",
       "      <td>1840.75</td>\n",
       "    </tr>\n",
       "    <tr>\n",
       "      <th>4</th>\n",
       "      <td>0</td>\n",
       "      <td>2</td>\n",
       "      <td>70.70</td>\n",
       "      <td>151.65</td>\n",
       "    </tr>\n",
       "    <tr>\n",
       "      <th>...</th>\n",
       "      <td>...</td>\n",
       "      <td>...</td>\n",
       "      <td>...</td>\n",
       "      <td>...</td>\n",
       "    </tr>\n",
       "    <tr>\n",
       "      <th>7038</th>\n",
       "      <td>0</td>\n",
       "      <td>24</td>\n",
       "      <td>84.80</td>\n",
       "      <td>1990.50</td>\n",
       "    </tr>\n",
       "    <tr>\n",
       "      <th>7039</th>\n",
       "      <td>0</td>\n",
       "      <td>72</td>\n",
       "      <td>103.20</td>\n",
       "      <td>7362.90</td>\n",
       "    </tr>\n",
       "    <tr>\n",
       "      <th>7040</th>\n",
       "      <td>0</td>\n",
       "      <td>11</td>\n",
       "      <td>29.60</td>\n",
       "      <td>346.45</td>\n",
       "    </tr>\n",
       "    <tr>\n",
       "      <th>7041</th>\n",
       "      <td>1</td>\n",
       "      <td>4</td>\n",
       "      <td>74.40</td>\n",
       "      <td>306.60</td>\n",
       "    </tr>\n",
       "    <tr>\n",
       "      <th>7042</th>\n",
       "      <td>0</td>\n",
       "      <td>66</td>\n",
       "      <td>105.65</td>\n",
       "      <td>6844.50</td>\n",
       "    </tr>\n",
       "  </tbody>\n",
       "</table>\n",
       "<p>7043 rows × 4 columns</p>\n",
       "</div>"
      ],
      "text/plain": [
       "      SeniorCitizen  tenure  MonthlyCharges  TotalCharges\n",
       "0                 0       1           29.85         29.85\n",
       "1                 0      34           56.95       1889.50\n",
       "2                 0       2           53.85        108.15\n",
       "3                 0      45           42.30       1840.75\n",
       "4                 0       2           70.70        151.65\n",
       "...             ...     ...             ...           ...\n",
       "7038              0      24           84.80       1990.50\n",
       "7039              0      72          103.20       7362.90\n",
       "7040              0      11           29.60        346.45\n",
       "7041              1       4           74.40        306.60\n",
       "7042              0      66          105.65       6844.50\n",
       "\n",
       "[7043 rows x 4 columns]"
      ]
     },
     "execution_count": 8,
     "metadata": {},
     "output_type": "execute_result"
    }
   ],
   "source": [
    "numeric_df= churnData.select_dtypes(np.number)\n",
    "numeric_df"
   ]
  },
  {
   "cell_type": "markdown",
   "id": "1c5e4432",
   "metadata": {},
   "source": [
    "### Check whether there are any NaNs"
   ]
  },
  {
   "cell_type": "code",
   "execution_count": 9,
   "id": "9b83d32c",
   "metadata": {},
   "outputs": [
    {
     "data": {
      "text/plain": [
       "True"
      ]
     },
     "execution_count": 9,
     "metadata": {},
     "output_type": "execute_result"
    }
   ],
   "source": [
    "churnData.isnull().values.any()"
   ]
  },
  {
   "cell_type": "markdown",
   "id": "f2b4678e",
   "metadata": {},
   "source": [
    "### Filling NaNs with means of the column"
   ]
  },
  {
   "cell_type": "code",
   "execution_count": 10,
   "id": "31b5e261",
   "metadata": {},
   "outputs": [],
   "source": [
    "churnData = churnData.fillna(churnData.mean())"
   ]
  },
  {
   "cell_type": "code",
   "execution_count": 11,
   "id": "63437e4a",
   "metadata": {
    "scrolled": true
   },
   "outputs": [
    {
     "data": {
      "text/plain": [
       "Index(['gender', 'SeniorCitizen', 'Partner', 'Dependents', 'tenure',\n",
       "       'PhoneService', 'OnlineSecurity', 'OnlineBackup', 'DeviceProtection',\n",
       "       'TechSupport', 'StreamingTV', 'StreamingMovies', 'Contract',\n",
       "       'MonthlyCharges', 'TotalCharges', 'Churn'],\n",
       "      dtype='object')"
      ]
     },
     "execution_count": 11,
     "metadata": {},
     "output_type": "execute_result"
    }
   ],
   "source": [
    "churnData.columns"
   ]
  },
  {
   "cell_type": "code",
   "execution_count": 14,
   "id": "3ee83888",
   "metadata": {
    "scrolled": true
   },
   "outputs": [
    {
     "data": {
      "text/plain": [
       "SeniorCitizen     False\n",
       "tenure            False\n",
       "MonthlyCharges    False\n",
       "TotalCharges      False\n",
       "dtype: bool"
      ]
     },
     "execution_count": 14,
     "metadata": {},
     "output_type": "execute_result"
    }
   ],
   "source": [
    "X.isna().any()"
   ]
  },
  {
   "cell_type": "markdown",
   "id": "be23d4b8",
   "metadata": {},
   "source": [
    "### Looking into the 4 columns: tenure, SeniorCitizen, MonthlyCharges, TotalCharges "
   ]
  },
  {
   "cell_type": "code",
   "execution_count": 12,
   "id": "7371a906",
   "metadata": {},
   "outputs": [],
   "source": [
    "X = numeric_df\n"
   ]
  },
  {
   "cell_type": "code",
   "execution_count": 13,
   "id": "97385086",
   "metadata": {},
   "outputs": [],
   "source": [
    "X = X.fillna(X.mean())"
   ]
  },
  {
   "cell_type": "code",
   "execution_count": 35,
   "id": "336fe001",
   "metadata": {},
   "outputs": [
    {
     "data": {
      "text/plain": [
       "0        No\n",
       "1        No\n",
       "2       Yes\n",
       "3        No\n",
       "4       Yes\n",
       "       ... \n",
       "7038     No\n",
       "7039     No\n",
       "7040     No\n",
       "7041    Yes\n",
       "7042     No\n",
       "Name: Churn, Length: 7043, dtype: object"
      ]
     },
     "execution_count": 35,
     "metadata": {},
     "output_type": "execute_result"
    }
   ],
   "source": []
  },
  {
   "cell_type": "code",
   "execution_count": 17,
   "id": "8c7c7ec7",
   "metadata": {},
   "outputs": [],
   "source": [
    "y = churnData['Churn']"
   ]
  },
  {
   "cell_type": "code",
   "execution_count": 18,
   "id": "d50dade9",
   "metadata": {},
   "outputs": [
    {
     "data": {
      "text/plain": [
       "0        No\n",
       "1        No\n",
       "2       Yes\n",
       "3        No\n",
       "4       Yes\n",
       "       ... \n",
       "7038     No\n",
       "7039     No\n",
       "7040     No\n",
       "7041    Yes\n",
       "7042     No\n",
       "Name: Churn, Length: 7043, dtype: object"
      ]
     },
     "execution_count": 18,
     "metadata": {},
     "output_type": "execute_result"
    }
   ],
   "source": [
    "y"
   ]
  },
  {
   "cell_type": "code",
   "execution_count": 19,
   "id": "d09075d8",
   "metadata": {},
   "outputs": [
    {
     "data": {
      "text/plain": [
       "No     5174\n",
       "Yes    1869\n",
       "Name: Churn, dtype: int64"
      ]
     },
     "execution_count": 19,
     "metadata": {},
     "output_type": "execute_result"
    }
   ],
   "source": [
    "y.value_counts()"
   ]
  },
  {
   "cell_type": "code",
   "execution_count": 15,
   "id": "d023cefa",
   "metadata": {},
   "outputs": [
    {
     "data": {
      "text/html": [
       "<div>\n",
       "<style scoped>\n",
       "    .dataframe tbody tr th:only-of-type {\n",
       "        vertical-align: middle;\n",
       "    }\n",
       "\n",
       "    .dataframe tbody tr th {\n",
       "        vertical-align: top;\n",
       "    }\n",
       "\n",
       "    .dataframe thead th {\n",
       "        text-align: right;\n",
       "    }\n",
       "</style>\n",
       "<table border=\"1\" class=\"dataframe\">\n",
       "  <thead>\n",
       "    <tr style=\"text-align: right;\">\n",
       "      <th></th>\n",
       "      <th>SeniorCitizen</th>\n",
       "      <th>tenure</th>\n",
       "      <th>MonthlyCharges</th>\n",
       "      <th>TotalCharges</th>\n",
       "    </tr>\n",
       "  </thead>\n",
       "  <tbody>\n",
       "    <tr>\n",
       "      <th>0</th>\n",
       "      <td>0</td>\n",
       "      <td>1</td>\n",
       "      <td>30.0</td>\n",
       "      <td>30.0</td>\n",
       "    </tr>\n",
       "    <tr>\n",
       "      <th>1</th>\n",
       "      <td>0</td>\n",
       "      <td>34</td>\n",
       "      <td>57.0</td>\n",
       "      <td>1890.0</td>\n",
       "    </tr>\n",
       "    <tr>\n",
       "      <th>2</th>\n",
       "      <td>0</td>\n",
       "      <td>2</td>\n",
       "      <td>54.0</td>\n",
       "      <td>108.0</td>\n",
       "    </tr>\n",
       "    <tr>\n",
       "      <th>3</th>\n",
       "      <td>0</td>\n",
       "      <td>45</td>\n",
       "      <td>42.0</td>\n",
       "      <td>1841.0</td>\n",
       "    </tr>\n",
       "    <tr>\n",
       "      <th>4</th>\n",
       "      <td>0</td>\n",
       "      <td>2</td>\n",
       "      <td>71.0</td>\n",
       "      <td>152.0</td>\n",
       "    </tr>\n",
       "    <tr>\n",
       "      <th>...</th>\n",
       "      <td>...</td>\n",
       "      <td>...</td>\n",
       "      <td>...</td>\n",
       "      <td>...</td>\n",
       "    </tr>\n",
       "    <tr>\n",
       "      <th>7038</th>\n",
       "      <td>0</td>\n",
       "      <td>24</td>\n",
       "      <td>85.0</td>\n",
       "      <td>1990.0</td>\n",
       "    </tr>\n",
       "    <tr>\n",
       "      <th>7039</th>\n",
       "      <td>0</td>\n",
       "      <td>72</td>\n",
       "      <td>103.0</td>\n",
       "      <td>7363.0</td>\n",
       "    </tr>\n",
       "    <tr>\n",
       "      <th>7040</th>\n",
       "      <td>0</td>\n",
       "      <td>11</td>\n",
       "      <td>30.0</td>\n",
       "      <td>346.0</td>\n",
       "    </tr>\n",
       "    <tr>\n",
       "      <th>7041</th>\n",
       "      <td>1</td>\n",
       "      <td>4</td>\n",
       "      <td>74.0</td>\n",
       "      <td>307.0</td>\n",
       "    </tr>\n",
       "    <tr>\n",
       "      <th>7042</th>\n",
       "      <td>0</td>\n",
       "      <td>66</td>\n",
       "      <td>106.0</td>\n",
       "      <td>6844.0</td>\n",
       "    </tr>\n",
       "  </tbody>\n",
       "</table>\n",
       "<p>7043 rows × 4 columns</p>\n",
       "</div>"
      ],
      "text/plain": [
       "      SeniorCitizen  tenure  MonthlyCharges  TotalCharges\n",
       "0                 0       1            30.0          30.0\n",
       "1                 0      34            57.0        1890.0\n",
       "2                 0       2            54.0         108.0\n",
       "3                 0      45            42.0        1841.0\n",
       "4                 0       2            71.0         152.0\n",
       "...             ...     ...             ...           ...\n",
       "7038              0      24            85.0        1990.0\n",
       "7039              0      72           103.0        7363.0\n",
       "7040              0      11            30.0         346.0\n",
       "7041              1       4            74.0         307.0\n",
       "7042              0      66           106.0        6844.0\n",
       "\n",
       "[7043 rows x 4 columns]"
      ]
     },
     "execution_count": 15,
     "metadata": {},
     "output_type": "execute_result"
    }
   ],
   "source": [
    "X.round()"
   ]
  },
  {
   "cell_type": "code",
   "execution_count": 20,
   "id": "e1b5b97f",
   "metadata": {
    "scrolled": true
   },
   "outputs": [
    {
     "data": {
      "text/plain": [
       "No     0.73463\n",
       "Yes    0.26537\n",
       "Name: Churn, dtype: float64"
      ]
     },
     "execution_count": 20,
     "metadata": {},
     "output_type": "execute_result"
    }
   ],
   "source": [
    "# target variable is malignant or benign (binary label).\n",
    "# let's check the distribution of labels\n",
    "y.value_counts(normalize=True)\n",
    "#y.value_counts(normalize=False)\n",
    "#1 is benign \n",
    "#0 is malignant "
   ]
  },
  {
   "cell_type": "markdown",
   "id": "636e0eba",
   "metadata": {},
   "source": [
    "### Data checks for down or upsampling"
   ]
  },
  {
   "cell_type": "code",
   "execution_count": 34,
   "id": "de4c995b",
   "metadata": {
    "scrolled": true
   },
   "outputs": [
    {
     "data": {
      "text/plain": [
       "10348"
      ]
     },
     "execution_count": 34,
     "metadata": {},
     "output_type": "execute_result"
    }
   ],
   "source": [
    "numrows = X.shape[0] \n",
    "numrows"
   ]
  },
  {
   "cell_type": "code",
   "execution_count": 22,
   "id": "7bcfb6b5",
   "metadata": {
    "scrolled": false
   },
   "outputs": [
    {
     "data": {
      "text/plain": [
       "No     5174\n",
       "Yes    1869\n",
       "Name: Churn, dtype: int64"
      ]
     },
     "execution_count": 22,
     "metadata": {},
     "output_type": "execute_result"
    }
   ],
   "source": [
    "y.value_counts() #checking the y values, No: 5174, Yes: 1869 \n",
    "#therefore I will upsample because the data is unbalanced"
   ]
  },
  {
   "cell_type": "code",
   "execution_count": 23,
   "id": "9ea200b0",
   "metadata": {},
   "outputs": [],
   "source": [
    "from imblearn.over_sampling import SMOTE\n",
    "smote = SMOTE()"
   ]
  },
  {
   "cell_type": "code",
   "execution_count": 24,
   "id": "425612ef",
   "metadata": {},
   "outputs": [
    {
     "data": {
      "text/plain": [
       "No     5174\n",
       "Yes    5174\n",
       "Name: Churn, dtype: int64"
      ]
     },
     "execution_count": 24,
     "metadata": {},
     "output_type": "execute_result"
    }
   ],
   "source": [
    "X_sm, y_sm = smote.fit_resample(X, y)\n",
    "y_sm.value_counts()"
   ]
  },
  {
   "cell_type": "code",
   "execution_count": 25,
   "id": "b501e3ea",
   "metadata": {},
   "outputs": [],
   "source": [
    "y = y_sm\n",
    "X = X_sm"
   ]
  },
  {
   "cell_type": "code",
   "execution_count": 35,
   "id": "0ef22c91",
   "metadata": {},
   "outputs": [
    {
     "data": {
      "text/plain": [
       "10348"
      ]
     },
     "execution_count": 35,
     "metadata": {},
     "output_type": "execute_result"
    }
   ],
   "source": [
    "numrows = X.shape[0] \n",
    "numrows\n",
    "#checking if the smote worked and i upscaled my data"
   ]
  },
  {
   "cell_type": "markdown",
   "id": "eab60496",
   "metadata": {},
   "source": [
    "### Train/test splitting "
   ]
  },
  {
   "cell_type": "code",
   "execution_count": 30,
   "id": "25c7270b",
   "metadata": {},
   "outputs": [],
   "source": [
    "TT_SPLIT = 0.2     # ratio train/test size\n",
    "RAND_STATE = 1230  # specifies a sampling for repeatable results"
   ]
  },
  {
   "cell_type": "code",
   "execution_count": 33,
   "id": "026b1538",
   "metadata": {},
   "outputs": [],
   "source": [
    "X_train, X_test, y_train, y_test = train_test_split(X, y, test_size=TT_SPLIT, random_state=RAND_STATE)\n"
   ]
  },
  {
   "cell_type": "markdown",
   "id": "09acea41",
   "metadata": {},
   "source": [
    "### Random forest"
   ]
  },
  {
   "cell_type": "code",
   "execution_count": 36,
   "id": "a96ac436",
   "metadata": {},
   "outputs": [],
   "source": [
    "# again we need to drop the null (we use the same shuffling)\n",
    "na_idx = X_train[X_train.isna().any(axis=1)].index\n",
    "X_train = pd.DataFrame(X_train).drop(na_idx)\n",
    "y_train = pd.DataFrame(y_train).drop(na_idx)"
   ]
  },
  {
   "cell_type": "code",
   "execution_count": 38,
   "id": "faf554fd",
   "metadata": {},
   "outputs": [],
   "source": [
    "def down_samp_rand(Xin, yin, ratio=1):\n",
    "        from imblearn.under_sampling import RandomUnderSampler\n",
    "        \"\"\"Downsamples majority class using random sampling.\n",
    "        Ratio argument is the ratio of minority class to the downsampled majority\n",
    "        \"\"\"\n",
    "        rus = RandomUnderSampler(sampling_strategy=ratio, random_state=RAND_STATE)\n",
    "        X_rus, y_rus = rus.fit_resample(Xin, yin)\n",
    "        return X_rus, y_rus"
   ]
  },
  {
   "cell_type": "code",
   "execution_count": 39,
   "id": "aaf5c06e",
   "metadata": {},
   "outputs": [],
   "source": [
    "X_train, y_train = down_samp_rand(X_train,y_train)"
   ]
  },
  {
   "cell_type": "code",
   "execution_count": 40,
   "id": "8d4e78c8",
   "metadata": {},
   "outputs": [
    {
     "data": {
      "text/plain": [
       "Churn\n",
       "No       4136\n",
       "Yes      4136\n",
       "dtype: int64"
      ]
     },
     "execution_count": 40,
     "metadata": {},
     "output_type": "execute_result"
    }
   ],
   "source": [
    "# check that we have downsampled\n",
    "y_train.value_counts()"
   ]
  },
  {
   "cell_type": "code",
   "execution_count": 41,
   "id": "eacb33d1",
   "metadata": {
    "scrolled": true
   },
   "outputs": [
    {
     "data": {
      "text/plain": [
       "RandomForestClassifier(max_depth=6, max_features=None, min_samples_leaf=20,\n",
       "                       oob_score=True, random_state=1230)"
      ]
     },
     "execution_count": 41,
     "metadata": {},
     "output_type": "execute_result"
    },
    {
     "name": "stdout",
     "output_type": "stream",
     "text": [
      "train prediction accuracy score: 0.77\n",
      "test prediction accuracy score: 0.76\n"
     ]
    }
   ],
   "source": [
    "from sklearn.ensemble import RandomForestClassifier\n",
    "\n",
    "rfc_ops = {\"max_depth\":6,\n",
    "           \"min_samples_leaf\":20,\n",
    "           \"max_features\":None,\n",
    "           \"n_estimators\":100,\n",
    "           \"bootstrap\":True,\n",
    "           \"oob_score\":True,\n",
    "           \"random_state\":RAND_STATE}\n",
    "\n",
    "clf = RandomForestClassifier(**rfc_ops)\n",
    "\n",
    "        #max_depth=6,min_samples_leaf=20,max_features=None,n_estimators=100,\n",
    "         #                    bootstrap=True,oob_score=True, random_state=RAND_STATE)\n",
    "clf.fit(X_train, y_train)\n",
    "print(\"train prediction accuracy score: %.2f\" %(clf.score(X_train, y_train)))\n",
    "print(\"test prediction accuracy score: %.2f\"  %(clf.score(X_test, y_test)))"
   ]
  },
  {
   "cell_type": "code",
   "execution_count": 42,
   "id": "422acad8",
   "metadata": {},
   "outputs": [],
   "source": [
    "from sklearn.metrics import accuracy_score\n",
    "score_ds = accuracy_score(y_test,clf.predict(X_test))"
   ]
  },
  {
   "cell_type": "markdown",
   "id": "f92fa890",
   "metadata": {},
   "source": [
    "### Cross validation"
   ]
  },
  {
   "cell_type": "code",
   "execution_count": 43,
   "id": "e42796a3",
   "metadata": {},
   "outputs": [],
   "source": [
    "from sklearn.model_selection import cross_val_score\n",
    "folds=5\n",
    "cross_val_scores = cross_val_score(clf, X_train, y_train, cv=folds)\n"
   ]
  },
  {
   "cell_type": "code",
   "execution_count": 44,
   "id": "1b679d7a",
   "metadata": {
    "scrolled": true
   },
   "outputs": [
    {
     "name": "stdout",
     "output_type": "stream",
     "text": [
      "cv scores over 5 iterations: \n",
      "\n"
     ]
    },
    {
     "data": {
      "text/plain": [
       "array([0.76858006, 0.74864048, 0.76481258, 0.74909311, 0.74607013])"
      ]
     },
     "execution_count": 44,
     "metadata": {},
     "output_type": "execute_result"
    }
   ],
   "source": [
    "print(\"cv scores over {:d} iterations: \\n\".format(folds))\n",
    "cross_val_scores"
   ]
  },
  {
   "cell_type": "code",
   "execution_count": 45,
   "id": "5e2bb149",
   "metadata": {},
   "outputs": [
    {
     "name": "stdout",
     "output_type": "stream",
     "text": [
      "the std. dev. in the cv scores is 0.0093\n"
     ]
    }
   ],
   "source": [
    "print(\"the std. dev. in the cv scores is {:.4f}\".format(np.std(cross_val_scores)))"
   ]
  },
  {
   "cell_type": "markdown",
   "id": "5b3f7d70",
   "metadata": {},
   "source": [
    "### Hyper parameter tuning"
   ]
  },
  {
   "cell_type": "code",
   "execution_count": 49,
   "id": "ba798b2d",
   "metadata": {},
   "outputs": [],
   "source": [
    "from sklearn.model_selection import GridSearchCV\n",
    "from sklearn.ensemble import RandomForestClassifier\n",
    "\n",
    "param_grid = {\n",
    "    'n_estimators': [50, 100,500],\n",
    "    'min_samples_split': [2, 4],\n",
    "    'min_samples_leaf' : [1, 2],\n",
    "    'max_features': ['sqrt']\n",
    "    ##'max_samples' : ['None', 0.5],\n",
    "    ##'max_depth':[3,5,10],\n",
    "    ## 'bootstrap':[True,False]\n",
    "    }\n",
    "clf = RandomForestClassifier(random_state=RAND_STATE)"
   ]
  },
  {
   "cell_type": "code",
   "execution_count": 50,
   "id": "5d40b985",
   "metadata": {},
   "outputs": [],
   "source": [
    "clf = RandomForestClassifier(random_state=RAND_STATE)"
   ]
  },
  {
   "cell_type": "code",
   "execution_count": 52,
   "id": "f7e65dd0",
   "metadata": {},
   "outputs": [],
   "source": [
    "grid_search = GridSearchCV(clf, param_grid, cv=5,return_train_score=True,n_jobs=-1,)"
   ]
  },
  {
   "cell_type": "code",
   "execution_count": 53,
   "id": "b1e5a086",
   "metadata": {},
   "outputs": [
    {
     "data": {
      "text/plain": [
       "GridSearchCV(cv=5, estimator=RandomForestClassifier(random_state=1230),\n",
       "             n_jobs=-1,\n",
       "             param_grid={'max_features': ['sqrt'], 'min_samples_leaf': [1, 2],\n",
       "                         'min_samples_split': [2, 4],\n",
       "                         'n_estimators': [50, 100, 500]},\n",
       "             return_train_score=True)"
      ]
     },
     "execution_count": 53,
     "metadata": {},
     "output_type": "execute_result"
    }
   ],
   "source": [
    "grid_search.fit(X_train,y_train.values.ravel())"
   ]
  },
  {
   "cell_type": "code",
   "execution_count": 54,
   "id": "552ead6c",
   "metadata": {},
   "outputs": [
    {
     "data": {
      "text/plain": [
       "{'max_features': 'sqrt',\n",
       " 'min_samples_leaf': 2,\n",
       " 'min_samples_split': 2,\n",
       " 'n_estimators': 100}"
      ]
     },
     "execution_count": 54,
     "metadata": {},
     "output_type": "execute_result"
    }
   ],
   "source": [
    "best_params = grid_search.best_params_ #To check the best set of parameters returned\n",
    "best_params"
   ]
  },
  {
   "cell_type": "code",
   "execution_count": 55,
   "id": "99c5c190",
   "metadata": {
    "scrolled": true
   },
   "outputs": [
    {
     "data": {
      "text/html": [
       "<div>\n",
       "<style scoped>\n",
       "    .dataframe tbody tr th:only-of-type {\n",
       "        vertical-align: middle;\n",
       "    }\n",
       "\n",
       "    .dataframe tbody tr th {\n",
       "        vertical-align: top;\n",
       "    }\n",
       "\n",
       "    .dataframe thead th {\n",
       "        text-align: right;\n",
       "    }\n",
       "</style>\n",
       "<table border=\"1\" class=\"dataframe\">\n",
       "  <thead>\n",
       "    <tr style=\"text-align: right;\">\n",
       "      <th></th>\n",
       "      <th>mean_fit_time</th>\n",
       "      <th>std_fit_time</th>\n",
       "      <th>mean_score_time</th>\n",
       "      <th>std_score_time</th>\n",
       "      <th>param_max_features</th>\n",
       "      <th>param_min_samples_leaf</th>\n",
       "      <th>param_min_samples_split</th>\n",
       "      <th>param_n_estimators</th>\n",
       "      <th>params</th>\n",
       "      <th>split0_test_score</th>\n",
       "      <th>split1_test_score</th>\n",
       "      <th>split2_test_score</th>\n",
       "      <th>split3_test_score</th>\n",
       "      <th>split4_test_score</th>\n",
       "      <th>mean_test_score</th>\n",
       "      <th>std_test_score</th>\n",
       "      <th>rank_test_score</th>\n",
       "      <th>split0_train_score</th>\n",
       "      <th>split1_train_score</th>\n",
       "      <th>split2_train_score</th>\n",
       "      <th>split3_train_score</th>\n",
       "      <th>split4_train_score</th>\n",
       "      <th>mean_train_score</th>\n",
       "      <th>std_train_score</th>\n",
       "    </tr>\n",
       "  </thead>\n",
       "  <tbody>\n",
       "    <tr>\n",
       "      <th>0</th>\n",
       "      <td>0.828398</td>\n",
       "      <td>0.016957</td>\n",
       "      <td>0.042079</td>\n",
       "      <td>0.001963</td>\n",
       "      <td>sqrt</td>\n",
       "      <td>1</td>\n",
       "      <td>2</td>\n",
       "      <td>50</td>\n",
       "      <td>{'max_features': 'sqrt', 'min_samples_leaf': 1...</td>\n",
       "      <td>0.767372</td>\n",
       "      <td>0.762538</td>\n",
       "      <td>0.767836</td>\n",
       "      <td>0.767231</td>\n",
       "      <td>0.744256</td>\n",
       "      <td>0.761846</td>\n",
       "      <td>0.009003</td>\n",
       "      <td>11</td>\n",
       "      <td>0.992897</td>\n",
       "      <td>0.992595</td>\n",
       "      <td>0.991992</td>\n",
       "      <td>0.991992</td>\n",
       "      <td>0.992898</td>\n",
       "      <td>0.992475</td>\n",
       "      <td>0.000410</td>\n",
       "    </tr>\n",
       "    <tr>\n",
       "      <th>1</th>\n",
       "      <td>1.985337</td>\n",
       "      <td>0.311664</td>\n",
       "      <td>0.112670</td>\n",
       "      <td>0.016906</td>\n",
       "      <td>sqrt</td>\n",
       "      <td>1</td>\n",
       "      <td>2</td>\n",
       "      <td>100</td>\n",
       "      <td>{'max_features': 'sqrt', 'min_samples_leaf': 1...</td>\n",
       "      <td>0.769184</td>\n",
       "      <td>0.762538</td>\n",
       "      <td>0.775695</td>\n",
       "      <td>0.763603</td>\n",
       "      <td>0.753930</td>\n",
       "      <td>0.764990</td>\n",
       "      <td>0.007245</td>\n",
       "      <td>7</td>\n",
       "      <td>0.993350</td>\n",
       "      <td>0.993048</td>\n",
       "      <td>0.992747</td>\n",
       "      <td>0.992747</td>\n",
       "      <td>0.993351</td>\n",
       "      <td>0.993049</td>\n",
       "      <td>0.000270</td>\n",
       "    </tr>\n",
       "    <tr>\n",
       "      <th>2</th>\n",
       "      <td>12.255352</td>\n",
       "      <td>0.385681</td>\n",
       "      <td>0.539477</td>\n",
       "      <td>0.029024</td>\n",
       "      <td>sqrt</td>\n",
       "      <td>1</td>\n",
       "      <td>2</td>\n",
       "      <td>500</td>\n",
       "      <td>{'max_features': 'sqrt', 'min_samples_leaf': 1...</td>\n",
       "      <td>0.770393</td>\n",
       "      <td>0.764350</td>\n",
       "      <td>0.773881</td>\n",
       "      <td>0.761790</td>\n",
       "      <td>0.754534</td>\n",
       "      <td>0.764990</td>\n",
       "      <td>0.006756</td>\n",
       "      <td>8</td>\n",
       "      <td>0.993350</td>\n",
       "      <td>0.993048</td>\n",
       "      <td>0.992747</td>\n",
       "      <td>0.992747</td>\n",
       "      <td>0.993503</td>\n",
       "      <td>0.993079</td>\n",
       "      <td>0.000308</td>\n",
       "    </tr>\n",
       "    <tr>\n",
       "      <th>3</th>\n",
       "      <td>1.171120</td>\n",
       "      <td>0.068295</td>\n",
       "      <td>0.061403</td>\n",
       "      <td>0.009720</td>\n",
       "      <td>sqrt</td>\n",
       "      <td>1</td>\n",
       "      <td>4</td>\n",
       "      <td>50</td>\n",
       "      <td>{'max_features': 'sqrt', 'min_samples_leaf': 1...</td>\n",
       "      <td>0.772810</td>\n",
       "      <td>0.755891</td>\n",
       "      <td>0.768440</td>\n",
       "      <td>0.754534</td>\n",
       "      <td>0.755139</td>\n",
       "      <td>0.761363</td>\n",
       "      <td>0.007700</td>\n",
       "      <td>12</td>\n",
       "      <td>0.977633</td>\n",
       "      <td>0.980203</td>\n",
       "      <td>0.978997</td>\n",
       "      <td>0.980508</td>\n",
       "      <td>0.979299</td>\n",
       "      <td>0.979328</td>\n",
       "      <td>0.001014</td>\n",
       "    </tr>\n",
       "    <tr>\n",
       "      <th>4</th>\n",
       "      <td>2.381772</td>\n",
       "      <td>0.077427</td>\n",
       "      <td>0.114313</td>\n",
       "      <td>0.008099</td>\n",
       "      <td>sqrt</td>\n",
       "      <td>1</td>\n",
       "      <td>4</td>\n",
       "      <td>100</td>\n",
       "      <td>{'max_features': 'sqrt', 'min_samples_leaf': 1...</td>\n",
       "      <td>0.772810</td>\n",
       "      <td>0.762538</td>\n",
       "      <td>0.770859</td>\n",
       "      <td>0.758162</td>\n",
       "      <td>0.753930</td>\n",
       "      <td>0.763660</td>\n",
       "      <td>0.007235</td>\n",
       "      <td>10</td>\n",
       "      <td>0.981865</td>\n",
       "      <td>0.981260</td>\n",
       "      <td>0.981565</td>\n",
       "      <td>0.982472</td>\n",
       "      <td>0.982623</td>\n",
       "      <td>0.981957</td>\n",
       "      <td>0.000521</td>\n",
       "    </tr>\n",
       "    <tr>\n",
       "      <th>5</th>\n",
       "      <td>11.797309</td>\n",
       "      <td>0.587334</td>\n",
       "      <td>0.543153</td>\n",
       "      <td>0.058237</td>\n",
       "      <td>sqrt</td>\n",
       "      <td>1</td>\n",
       "      <td>4</td>\n",
       "      <td>500</td>\n",
       "      <td>{'max_features': 'sqrt', 'min_samples_leaf': 1...</td>\n",
       "      <td>0.774018</td>\n",
       "      <td>0.761934</td>\n",
       "      <td>0.774486</td>\n",
       "      <td>0.758162</td>\n",
       "      <td>0.753930</td>\n",
       "      <td>0.764506</td>\n",
       "      <td>0.008352</td>\n",
       "      <td>9</td>\n",
       "      <td>0.985794</td>\n",
       "      <td>0.985945</td>\n",
       "      <td>0.984739</td>\n",
       "      <td>0.986250</td>\n",
       "      <td>0.986703</td>\n",
       "      <td>0.985886</td>\n",
       "      <td>0.000652</td>\n",
       "    </tr>\n",
       "    <tr>\n",
       "      <th>6</th>\n",
       "      <td>1.134703</td>\n",
       "      <td>0.058434</td>\n",
       "      <td>0.060320</td>\n",
       "      <td>0.015847</td>\n",
       "      <td>sqrt</td>\n",
       "      <td>2</td>\n",
       "      <td>2</td>\n",
       "      <td>50</td>\n",
       "      <td>{'max_features': 'sqrt', 'min_samples_leaf': 2...</td>\n",
       "      <td>0.778248</td>\n",
       "      <td>0.766163</td>\n",
       "      <td>0.777509</td>\n",
       "      <td>0.761790</td>\n",
       "      <td>0.762999</td>\n",
       "      <td>0.769342</td>\n",
       "      <td>0.007119</td>\n",
       "      <td>5</td>\n",
       "      <td>0.949071</td>\n",
       "      <td>0.944839</td>\n",
       "      <td>0.945905</td>\n",
       "      <td>0.947567</td>\n",
       "      <td>0.949532</td>\n",
       "      <td>0.947383</td>\n",
       "      <td>0.001797</td>\n",
       "    </tr>\n",
       "    <tr>\n",
       "      <th>7</th>\n",
       "      <td>2.118147</td>\n",
       "      <td>0.221042</td>\n",
       "      <td>0.106634</td>\n",
       "      <td>0.010530</td>\n",
       "      <td>sqrt</td>\n",
       "      <td>2</td>\n",
       "      <td>2</td>\n",
       "      <td>100</td>\n",
       "      <td>{'max_features': 'sqrt', 'min_samples_leaf': 2...</td>\n",
       "      <td>0.782477</td>\n",
       "      <td>0.770997</td>\n",
       "      <td>0.776904</td>\n",
       "      <td>0.763603</td>\n",
       "      <td>0.766022</td>\n",
       "      <td>0.772001</td>\n",
       "      <td>0.006944</td>\n",
       "      <td>1</td>\n",
       "      <td>0.951186</td>\n",
       "      <td>0.946048</td>\n",
       "      <td>0.948172</td>\n",
       "      <td>0.948474</td>\n",
       "      <td>0.949985</td>\n",
       "      <td>0.948773</td>\n",
       "      <td>0.001742</td>\n",
       "    </tr>\n",
       "    <tr>\n",
       "      <th>8</th>\n",
       "      <td>11.911788</td>\n",
       "      <td>0.587064</td>\n",
       "      <td>0.560589</td>\n",
       "      <td>0.116638</td>\n",
       "      <td>sqrt</td>\n",
       "      <td>2</td>\n",
       "      <td>2</td>\n",
       "      <td>500</td>\n",
       "      <td>{'max_features': 'sqrt', 'min_samples_leaf': 2...</td>\n",
       "      <td>0.779456</td>\n",
       "      <td>0.766163</td>\n",
       "      <td>0.778718</td>\n",
       "      <td>0.766626</td>\n",
       "      <td>0.762394</td>\n",
       "      <td>0.770672</td>\n",
       "      <td>0.007030</td>\n",
       "      <td>3</td>\n",
       "      <td>0.950431</td>\n",
       "      <td>0.949524</td>\n",
       "      <td>0.950287</td>\n",
       "      <td>0.951496</td>\n",
       "      <td>0.950892</td>\n",
       "      <td>0.950526</td>\n",
       "      <td>0.000655</td>\n",
       "    </tr>\n",
       "    <tr>\n",
       "      <th>9</th>\n",
       "      <td>1.248974</td>\n",
       "      <td>0.174152</td>\n",
       "      <td>0.070482</td>\n",
       "      <td>0.006989</td>\n",
       "      <td>sqrt</td>\n",
       "      <td>2</td>\n",
       "      <td>4</td>\n",
       "      <td>50</td>\n",
       "      <td>{'max_features': 'sqrt', 'min_samples_leaf': 2...</td>\n",
       "      <td>0.778248</td>\n",
       "      <td>0.766163</td>\n",
       "      <td>0.777509</td>\n",
       "      <td>0.761790</td>\n",
       "      <td>0.762999</td>\n",
       "      <td>0.769342</td>\n",
       "      <td>0.007119</td>\n",
       "      <td>5</td>\n",
       "      <td>0.949071</td>\n",
       "      <td>0.944839</td>\n",
       "      <td>0.945905</td>\n",
       "      <td>0.947567</td>\n",
       "      <td>0.949532</td>\n",
       "      <td>0.947383</td>\n",
       "      <td>0.001797</td>\n",
       "    </tr>\n",
       "    <tr>\n",
       "      <th>10</th>\n",
       "      <td>2.455193</td>\n",
       "      <td>0.151827</td>\n",
       "      <td>0.122349</td>\n",
       "      <td>0.012016</td>\n",
       "      <td>sqrt</td>\n",
       "      <td>2</td>\n",
       "      <td>4</td>\n",
       "      <td>100</td>\n",
       "      <td>{'max_features': 'sqrt', 'min_samples_leaf': 2...</td>\n",
       "      <td>0.782477</td>\n",
       "      <td>0.770997</td>\n",
       "      <td>0.776904</td>\n",
       "      <td>0.763603</td>\n",
       "      <td>0.766022</td>\n",
       "      <td>0.772001</td>\n",
       "      <td>0.006944</td>\n",
       "      <td>1</td>\n",
       "      <td>0.951186</td>\n",
       "      <td>0.946048</td>\n",
       "      <td>0.948172</td>\n",
       "      <td>0.948474</td>\n",
       "      <td>0.949985</td>\n",
       "      <td>0.948773</td>\n",
       "      <td>0.001742</td>\n",
       "    </tr>\n",
       "    <tr>\n",
       "      <th>11</th>\n",
       "      <td>8.337888</td>\n",
       "      <td>0.351174</td>\n",
       "      <td>0.455220</td>\n",
       "      <td>0.061558</td>\n",
       "      <td>sqrt</td>\n",
       "      <td>2</td>\n",
       "      <td>4</td>\n",
       "      <td>500</td>\n",
       "      <td>{'max_features': 'sqrt', 'min_samples_leaf': 2...</td>\n",
       "      <td>0.779456</td>\n",
       "      <td>0.766163</td>\n",
       "      <td>0.778718</td>\n",
       "      <td>0.766626</td>\n",
       "      <td>0.762394</td>\n",
       "      <td>0.770672</td>\n",
       "      <td>0.007030</td>\n",
       "      <td>3</td>\n",
       "      <td>0.950431</td>\n",
       "      <td>0.949524</td>\n",
       "      <td>0.950287</td>\n",
       "      <td>0.951496</td>\n",
       "      <td>0.950892</td>\n",
       "      <td>0.950526</td>\n",
       "      <td>0.000655</td>\n",
       "    </tr>\n",
       "  </tbody>\n",
       "</table>\n",
       "</div>"
      ],
      "text/plain": [
       "    mean_fit_time  std_fit_time  mean_score_time  std_score_time  \\\n",
       "0        0.828398      0.016957         0.042079        0.001963   \n",
       "1        1.985337      0.311664         0.112670        0.016906   \n",
       "2       12.255352      0.385681         0.539477        0.029024   \n",
       "3        1.171120      0.068295         0.061403        0.009720   \n",
       "4        2.381772      0.077427         0.114313        0.008099   \n",
       "5       11.797309      0.587334         0.543153        0.058237   \n",
       "6        1.134703      0.058434         0.060320        0.015847   \n",
       "7        2.118147      0.221042         0.106634        0.010530   \n",
       "8       11.911788      0.587064         0.560589        0.116638   \n",
       "9        1.248974      0.174152         0.070482        0.006989   \n",
       "10       2.455193      0.151827         0.122349        0.012016   \n",
       "11       8.337888      0.351174         0.455220        0.061558   \n",
       "\n",
       "   param_max_features param_min_samples_leaf param_min_samples_split  \\\n",
       "0                sqrt                      1                       2   \n",
       "1                sqrt                      1                       2   \n",
       "2                sqrt                      1                       2   \n",
       "3                sqrt                      1                       4   \n",
       "4                sqrt                      1                       4   \n",
       "5                sqrt                      1                       4   \n",
       "6                sqrt                      2                       2   \n",
       "7                sqrt                      2                       2   \n",
       "8                sqrt                      2                       2   \n",
       "9                sqrt                      2                       4   \n",
       "10               sqrt                      2                       4   \n",
       "11               sqrt                      2                       4   \n",
       "\n",
       "   param_n_estimators                                             params  \\\n",
       "0                  50  {'max_features': 'sqrt', 'min_samples_leaf': 1...   \n",
       "1                 100  {'max_features': 'sqrt', 'min_samples_leaf': 1...   \n",
       "2                 500  {'max_features': 'sqrt', 'min_samples_leaf': 1...   \n",
       "3                  50  {'max_features': 'sqrt', 'min_samples_leaf': 1...   \n",
       "4                 100  {'max_features': 'sqrt', 'min_samples_leaf': 1...   \n",
       "5                 500  {'max_features': 'sqrt', 'min_samples_leaf': 1...   \n",
       "6                  50  {'max_features': 'sqrt', 'min_samples_leaf': 2...   \n",
       "7                 100  {'max_features': 'sqrt', 'min_samples_leaf': 2...   \n",
       "8                 500  {'max_features': 'sqrt', 'min_samples_leaf': 2...   \n",
       "9                  50  {'max_features': 'sqrt', 'min_samples_leaf': 2...   \n",
       "10                100  {'max_features': 'sqrt', 'min_samples_leaf': 2...   \n",
       "11                500  {'max_features': 'sqrt', 'min_samples_leaf': 2...   \n",
       "\n",
       "    split0_test_score  split1_test_score  split2_test_score  \\\n",
       "0            0.767372           0.762538           0.767836   \n",
       "1            0.769184           0.762538           0.775695   \n",
       "2            0.770393           0.764350           0.773881   \n",
       "3            0.772810           0.755891           0.768440   \n",
       "4            0.772810           0.762538           0.770859   \n",
       "5            0.774018           0.761934           0.774486   \n",
       "6            0.778248           0.766163           0.777509   \n",
       "7            0.782477           0.770997           0.776904   \n",
       "8            0.779456           0.766163           0.778718   \n",
       "9            0.778248           0.766163           0.777509   \n",
       "10           0.782477           0.770997           0.776904   \n",
       "11           0.779456           0.766163           0.778718   \n",
       "\n",
       "    split3_test_score  split4_test_score  mean_test_score  std_test_score  \\\n",
       "0            0.767231           0.744256         0.761846        0.009003   \n",
       "1            0.763603           0.753930         0.764990        0.007245   \n",
       "2            0.761790           0.754534         0.764990        0.006756   \n",
       "3            0.754534           0.755139         0.761363        0.007700   \n",
       "4            0.758162           0.753930         0.763660        0.007235   \n",
       "5            0.758162           0.753930         0.764506        0.008352   \n",
       "6            0.761790           0.762999         0.769342        0.007119   \n",
       "7            0.763603           0.766022         0.772001        0.006944   \n",
       "8            0.766626           0.762394         0.770672        0.007030   \n",
       "9            0.761790           0.762999         0.769342        0.007119   \n",
       "10           0.763603           0.766022         0.772001        0.006944   \n",
       "11           0.766626           0.762394         0.770672        0.007030   \n",
       "\n",
       "    rank_test_score  split0_train_score  split1_train_score  \\\n",
       "0                11            0.992897            0.992595   \n",
       "1                 7            0.993350            0.993048   \n",
       "2                 8            0.993350            0.993048   \n",
       "3                12            0.977633            0.980203   \n",
       "4                10            0.981865            0.981260   \n",
       "5                 9            0.985794            0.985945   \n",
       "6                 5            0.949071            0.944839   \n",
       "7                 1            0.951186            0.946048   \n",
       "8                 3            0.950431            0.949524   \n",
       "9                 5            0.949071            0.944839   \n",
       "10                1            0.951186            0.946048   \n",
       "11                3            0.950431            0.949524   \n",
       "\n",
       "    split2_train_score  split3_train_score  split4_train_score  \\\n",
       "0             0.991992            0.991992            0.992898   \n",
       "1             0.992747            0.992747            0.993351   \n",
       "2             0.992747            0.992747            0.993503   \n",
       "3             0.978997            0.980508            0.979299   \n",
       "4             0.981565            0.982472            0.982623   \n",
       "5             0.984739            0.986250            0.986703   \n",
       "6             0.945905            0.947567            0.949532   \n",
       "7             0.948172            0.948474            0.949985   \n",
       "8             0.950287            0.951496            0.950892   \n",
       "9             0.945905            0.947567            0.949532   \n",
       "10            0.948172            0.948474            0.949985   \n",
       "11            0.950287            0.951496            0.950892   \n",
       "\n",
       "    mean_train_score  std_train_score  \n",
       "0           0.992475         0.000410  \n",
       "1           0.993049         0.000270  \n",
       "2           0.993079         0.000308  \n",
       "3           0.979328         0.001014  \n",
       "4           0.981957         0.000521  \n",
       "5           0.985886         0.000652  \n",
       "6           0.947383         0.001797  \n",
       "7           0.948773         0.001742  \n",
       "8           0.950526         0.000655  \n",
       "9           0.947383         0.001797  \n",
       "10          0.948773         0.001742  \n",
       "11          0.950526         0.000655  "
      ]
     },
     "execution_count": 55,
     "metadata": {},
     "output_type": "execute_result"
    }
   ],
   "source": [
    "pd.DataFrame(grid_search.cv_results_)"
   ]
  },
  {
   "cell_type": "code",
   "execution_count": 56,
   "id": "39474198",
   "metadata": {},
   "outputs": [
    {
     "name": "stdout",
     "output_type": "stream",
     "text": [
      "0.7720007890785681\n"
     ]
    }
   ],
   "source": [
    "from sklearn.model_selection import cross_val_score\n",
    "clf = RandomForestClassifier(random_state=RAND_STATE, **best_params)\n",
    "cross_val_scores = cross_val_score(clf, X_train, y_train, cv=5)\n",
    "print(np.mean(cross_val_scores))"
   ]
  },
  {
   "cell_type": "code",
   "execution_count": 57,
   "id": "19d8b59f",
   "metadata": {},
   "outputs": [
    {
     "data": {
      "text/plain": [
       "RandomForestClassifier(max_features='sqrt', min_samples_leaf=2,\n",
       "                       random_state=1230)"
      ]
     },
     "execution_count": 57,
     "metadata": {},
     "output_type": "execute_result"
    }
   ],
   "source": [
    "clf.fit(X_train, y_train)"
   ]
  },
  {
   "cell_type": "code",
   "execution_count": 58,
   "id": "c05fef50",
   "metadata": {},
   "outputs": [
    {
     "data": {
      "text/plain": [
       "4"
      ]
     },
     "execution_count": 58,
     "metadata": {},
     "output_type": "execute_result"
    }
   ],
   "source": [
    "len(X_train.columns)"
   ]
  },
  {
   "cell_type": "code",
   "execution_count": 59,
   "id": "76b9e164",
   "metadata": {},
   "outputs": [],
   "source": [
    "feature_names = X_train.columns\n",
    "feature_names = list(feature_names)"
   ]
  },
  {
   "cell_type": "code",
   "execution_count": 60,
   "id": "1c9fd642",
   "metadata": {
    "scrolled": true
   },
   "outputs": [
    {
     "data": {
      "text/html": [
       "<div>\n",
       "<style scoped>\n",
       "    .dataframe tbody tr th:only-of-type {\n",
       "        vertical-align: middle;\n",
       "    }\n",
       "\n",
       "    .dataframe tbody tr th {\n",
       "        vertical-align: top;\n",
       "    }\n",
       "\n",
       "    .dataframe thead th {\n",
       "        text-align: right;\n",
       "    }\n",
       "</style>\n",
       "<table border=\"1\" class=\"dataframe\">\n",
       "  <thead>\n",
       "    <tr style=\"text-align: right;\">\n",
       "      <th></th>\n",
       "      <th>columns_name</th>\n",
       "      <th>score_feature_importance</th>\n",
       "    </tr>\n",
       "  </thead>\n",
       "  <tbody>\n",
       "    <tr>\n",
       "      <th>2</th>\n",
       "      <td>MonthlyCharges</td>\n",
       "      <td>0.382199</td>\n",
       "    </tr>\n",
       "    <tr>\n",
       "      <th>3</th>\n",
       "      <td>TotalCharges</td>\n",
       "      <td>0.340730</td>\n",
       "    </tr>\n",
       "    <tr>\n",
       "      <th>1</th>\n",
       "      <td>tenure</td>\n",
       "      <td>0.260052</td>\n",
       "    </tr>\n",
       "    <tr>\n",
       "      <th>0</th>\n",
       "      <td>SeniorCitizen</td>\n",
       "      <td>0.017018</td>\n",
       "    </tr>\n",
       "  </tbody>\n",
       "</table>\n",
       "</div>"
      ],
      "text/plain": [
       "     columns_name  score_feature_importance\n",
       "2  MonthlyCharges                  0.382199\n",
       "3    TotalCharges                  0.340730\n",
       "1          tenure                  0.260052\n",
       "0   SeniorCitizen                  0.017018"
      ]
     },
     "execution_count": 60,
     "metadata": {},
     "output_type": "execute_result"
    }
   ],
   "source": [
    "df = pd.DataFrame(list(zip(feature_names, clf.feature_importances_)))\n",
    "df.columns = ['columns_name', 'score_feature_importance']\n",
    "df.sort_values(by=['score_feature_importance'], ascending = False)"
   ]
  }
 ],
 "metadata": {
  "kernelspec": {
   "display_name": "Python 3 (ipykernel)",
   "language": "python",
   "name": "python3"
  },
  "language_info": {
   "codemirror_mode": {
    "name": "ipython",
    "version": 3
   },
   "file_extension": ".py",
   "mimetype": "text/x-python",
   "name": "python",
   "nbconvert_exporter": "python",
   "pygments_lexer": "ipython3",
   "version": "3.9.13"
  },
  "toc": {
   "base_numbering": 1,
   "nav_menu": {},
   "number_sections": true,
   "sideBar": true,
   "skip_h1_title": false,
   "title_cell": "Table of Contents",
   "title_sidebar": "Contents",
   "toc_cell": false,
   "toc_position": {},
   "toc_section_display": true,
   "toc_window_display": false
  }
 },
 "nbformat": 4,
 "nbformat_minor": 5
}
