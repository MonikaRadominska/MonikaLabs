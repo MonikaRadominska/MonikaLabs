{
 "cells": [
  {
   "cell_type": "code",
   "execution_count": null,
   "id": "3c0a58a9",
   "metadata": {},
   "outputs": [],
   "source": [
    "#### 1. Import the numpy package under the name `np` (★☆☆)\n"
   ]
  },
  {
   "cell_type": "code",
   "execution_count": 4,
   "id": "2fa19a98",
   "metadata": {},
   "outputs": [],
   "source": [
    "import numpy as np"
   ]
  },
  {
   "cell_type": "code",
   "execution_count": null,
   "id": "34b55e37",
   "metadata": {},
   "outputs": [],
   "source": [
    "#### 2. Create a null vector of size 10 (★☆☆)"
   ]
  },
  {
   "cell_type": "code",
   "execution_count": 3,
   "id": "b64d02bb",
   "metadata": {
    "scrolled": true
   },
   "outputs": [
    {
     "name": "stdout",
     "output_type": "stream",
     "text": [
      "[0. 0. 0. 0. 0. 0. 0. 0. 0. 0.]\n"
     ]
    }
   ],
   "source": [
    "null_vector = np.zeros(10)\n",
    "print(null_vector)"
   ]
  },
  {
   "cell_type": "code",
   "execution_count": null,
   "id": "cb7757d4",
   "metadata": {},
   "outputs": [],
   "source": [
    "#### 3. Create a null vector of size 10 but the fifth value which is 1 (★☆☆)"
   ]
  },
  {
   "cell_type": "code",
   "execution_count": 9,
   "id": "6beaab4c",
   "metadata": {},
   "outputs": [
    {
     "name": "stdout",
     "output_type": "stream",
     "text": [
      "[0 0 0 0 0 1 0 0 0 0]\n"
     ]
    }
   ],
   "source": [
    "null_vector_1 = np.array([0,0,0,0,0,1,0,0,0,0])\n",
    "print(null_vector_1)"
   ]
  },
  {
   "cell_type": "code",
   "execution_count": null,
   "id": "19e9fe3d",
   "metadata": {},
   "outputs": [],
   "source": [
    "#### 4. Create a vector with values ranging from 10 to 49 (★☆☆)"
   ]
  },
  {
   "cell_type": "code",
   "execution_count": 12,
   "id": "2888a2b8",
   "metadata": {},
   "outputs": [
    {
     "name": "stdout",
     "output_type": "stream",
     "text": [
      "[10 11 12 13 14 15 16 17 18 19 20 21 22 23 24 25 26 27 28 29 30 31 32 33\n",
      " 34 35 36 37 38 39 40 41 42 43 44 45 46 47 48 49]\n"
     ]
    }
   ],
   "source": [
    "new_vector = np.arange(10,50)\n",
    "print(new_vector)"
   ]
  },
  {
   "cell_type": "code",
   "execution_count": null,
   "id": "a5cf12f8",
   "metadata": {},
   "outputs": [],
   "source": [
    "#### 5. Create a 3x3 matrix with values ranging from 0 to 8 (★☆☆)"
   ]
  },
  {
   "cell_type": "code",
   "execution_count": 14,
   "id": "a643e11b",
   "metadata": {},
   "outputs": [
    {
     "name": "stdout",
     "output_type": "stream",
     "text": [
      "[[0 1 2]\n",
      " [3 4 5]\n",
      " [6 7 8]]\n"
     ]
    }
   ],
   "source": [
    "new_matrix = np.arange(0, 9).reshape((3, 3))\n",
    "print(new_matrix)"
   ]
  },
  {
   "cell_type": "code",
   "execution_count": null,
   "id": "b2d9c4a7",
   "metadata": {},
   "outputs": [],
   "source": [
    "#### 6. Find indices of non-zero elements from [1,2,0,0,4,0] (★☆☆)"
   ]
  },
  {
   "cell_type": "code",
   "execution_count": 17,
   "id": "b7c1302d",
   "metadata": {},
   "outputs": [
    {
     "name": "stdout",
     "output_type": "stream",
     "text": [
      "(array([0, 1, 4], dtype=int64),)\n"
     ]
    }
   ],
   "source": [
    "a = [1,2,0,0,4,0]\n",
    "b =np.nonzero(a)\n",
    "print(b)"
   ]
  },
  {
   "cell_type": "code",
   "execution_count": null,
   "id": "31ef8763",
   "metadata": {},
   "outputs": [],
   "source": [
    "#### 7. Create a 3x3 identity matrix (★☆☆)"
   ]
  },
  {
   "cell_type": "code",
   "execution_count": 18,
   "id": "2dc74842",
   "metadata": {
    "scrolled": true
   },
   "outputs": [
    {
     "name": "stdout",
     "output_type": "stream",
     "text": [
      "[[1. 0. 0.]\n",
      " [0. 1. 0.]\n",
      " [0. 0. 1.]]\n"
     ]
    }
   ],
   "source": [
    "c = np.eye(3,3)\n",
    "print(c)"
   ]
  },
  {
   "cell_type": "code",
   "execution_count": null,
   "id": "c1855f28",
   "metadata": {},
   "outputs": [],
   "source": [
    "#### 8. Create a 3x3x3 array with random values (★☆☆)"
   ]
  },
  {
   "cell_type": "code",
   "execution_count": 23,
   "id": "0f1e5dbd",
   "metadata": {},
   "outputs": [
    {
     "name": "stdout",
     "output_type": "stream",
     "text": [
      "[[[0.38344152 0.79172504 0.52889492]\n",
      "  [0.56804456 0.92559664 0.07103606]\n",
      "  [0.0871293  0.0202184  0.83261985]]\n",
      "\n",
      " [[0.77815675 0.87001215 0.97861834]\n",
      "  [0.79915856 0.46147936 0.78052918]\n",
      "  [0.11827443 0.63992102 0.14335329]]\n",
      "\n",
      " [[0.94466892 0.52184832 0.41466194]\n",
      "  [0.26455561 0.77423369 0.45615033]\n",
      "  [0.56843395 0.0187898  0.6176355 ]]]\n"
     ]
    }
   ],
   "source": [
    "d = np.random.random((3,3,3))\n",
    "print(d)"
   ]
  },
  {
   "cell_type": "code",
   "execution_count": null,
   "id": "fafc39f7",
   "metadata": {},
   "outputs": [],
   "source": [
    "#### 9. Create a 10x10 array with random values and find the minimum and maximum values (★☆☆)"
   ]
  },
  {
   "cell_type": "code",
   "execution_count": 6,
   "id": "23d880b1",
   "metadata": {},
   "outputs": [
    {
     "name": "stdout",
     "output_type": "stream",
     "text": [
      "[[0.60704114 0.8328009  0.87647122 0.69012365 0.62879222]\n",
      " [0.7138075  0.75569989 0.57210482 0.31990133 0.59581101]\n",
      " [0.35247379 0.70604965 0.26942922 0.45354241 0.35958114]\n",
      " [0.5605431  0.13293228 0.26656747 0.48685783 0.21631491]\n",
      " [0.65848842 0.21288726 0.06236508 0.28319177 0.49206955]]\n"
     ]
    }
   ],
   "source": [
    "e = np.random.random((5,5))\n",
    "print(e)"
   ]
  },
  {
   "cell_type": "code",
   "execution_count": 29,
   "id": "e70c9087",
   "metadata": {},
   "outputs": [
    {
     "name": "stdout",
     "output_type": "stream",
     "text": [
      "0.019193198309333526\n"
     ]
    }
   ],
   "source": [
    "#min val\n",
    "f = np.amin(e)\n",
    "print(f)"
   ]
  },
  {
   "cell_type": "code",
   "execution_count": 30,
   "id": "aa03eb89",
   "metadata": {
    "scrolled": true
   },
   "outputs": [
    {
     "name": "stdout",
     "output_type": "stream",
     "text": [
      "0.9560836347232239\n"
     ]
    }
   ],
   "source": [
    "#max val\n",
    "g = np.amax(e)\n",
    "print(g)"
   ]
  },
  {
   "cell_type": "code",
   "execution_count": null,
   "id": "43f70af1",
   "metadata": {},
   "outputs": [],
   "source": [
    "#### 10. Create a random vector of size 30 and find the mean value (★☆☆)"
   ]
  },
  {
   "cell_type": "code",
   "execution_count": 31,
   "id": "6139abf4",
   "metadata": {},
   "outputs": [
    {
     "name": "stdout",
     "output_type": "stream",
     "text": [
      "[[0.57432525 0.65320082 0.65210327 0.43141844 0.8965466 ]\n",
      " [0.36756187 0.43586493 0.89192336 0.80619399 0.70388858]\n",
      " [0.10022689 0.91948261 0.7142413  0.99884701 0.1494483 ]\n",
      " [0.86812606 0.16249293 0.61555956 0.12381998 0.84800823]\n",
      " [0.80731896 0.56910074 0.4071833  0.069167   0.69742877]\n",
      " [0.45354268 0.7220556  0.86638233 0.97552151 0.85580334]]\n"
     ]
    }
   ],
   "source": [
    "h = np.random.random((6,5))\n",
    "print(h)"
   ]
  },
  {
   "cell_type": "code",
   "execution_count": 32,
   "id": "6b7cb4ad",
   "metadata": {},
   "outputs": [
    {
     "data": {
      "text/plain": [
       "0.6112261397292997"
      ]
     },
     "execution_count": 32,
     "metadata": {},
     "output_type": "execute_result"
    }
   ],
   "source": [
    "#mean value \n",
    "np.mean(h)"
   ]
  },
  {
   "cell_type": "code",
   "execution_count": null,
   "id": "f5a42238",
   "metadata": {},
   "outputs": [],
   "source": [
    "#### 11. Create a 5x5 matrix with values 1,2,3,4 just below the diagonal (★☆☆)"
   ]
  },
  {
   "cell_type": "code",
   "execution_count": 5,
   "id": "f53ee707",
   "metadata": {},
   "outputs": [
    {
     "name": "stdout",
     "output_type": "stream",
     "text": [
      "[[0 0 0 0 0]\n",
      " [1 0 0 0 0]\n",
      " [0 2 0 0 0]\n",
      " [0 0 3 0 0]\n",
      " [0 0 0 4 0]]\n"
     ]
    }
   ],
   "source": [
    "j = np.diag(np.arange(1,5),k =-1)\n",
    "print(j)"
   ]
  },
  {
   "cell_type": "code",
   "execution_count": null,
   "id": "04521738",
   "metadata": {},
   "outputs": [],
   "source": [
    "#### 12. Normalize a 5x5 random matrix (★☆☆)"
   ]
  },
  {
   "cell_type": "code",
   "execution_count": 17,
   "id": "01f36503",
   "metadata": {},
   "outputs": [
    {
     "name": "stdout",
     "output_type": "stream",
     "text": [
      "[[0.88850572 0.14846672 0.1838655  0.98757434 0.05536111]\n",
      " [0.57253715 0.98467826 0.54264817 0.06840955 0.11506625]\n",
      " [0.70680373 0.32462352 0.45196492 0.50968001 0.77652705]\n",
      " [0.98815799 0.80690867 0.9032439  0.06887155 0.18437728]\n",
      " [0.320846   0.72057362 0.22723068 0.59390622 0.22221088]]\n"
     ]
    }
   ],
   "source": [
    "k = np.random.random((5,5))\n",
    "print(k)\n",
    "l = np.mean(k)\n",
    "#print(l)\n",
    "m = np.std(k)"
   ]
  },
  {
   "cell_type": "code",
   "execution_count": 18,
   "id": "cf82bb5e",
   "metadata": {},
   "outputs": [
    {
     "name": "stdout",
     "output_type": "stream",
     "text": [
      "[[ 1.23255258 -1.08026077 -0.96963045  1.54216765 -1.37123989]\n",
      " [ 0.24506905  1.53311665  0.15165824 -1.33046015 -1.18464589]\n",
      " [ 0.66468682 -0.5297252  -0.1317504   0.04862419  0.88259024]\n",
      " [ 1.5439917   0.97754069  1.27861318 -1.32901629 -0.968031  ]\n",
      " [-0.54153093  0.7077213  -0.83410304  0.3118529  -0.84979119]]\n"
     ]
    }
   ],
   "source": [
    "n = (k-l)/m\n",
    "print(n)"
   ]
  },
  {
   "cell_type": "code",
   "execution_count": null,
   "id": "e2066480",
   "metadata": {},
   "outputs": [],
   "source": [
    "#### 13. How to find common values between two arrays? (★☆☆)"
   ]
  },
  {
   "cell_type": "code",
   "execution_count": 29,
   "id": "5b70d53c",
   "metadata": {
    "scrolled": true
   },
   "outputs": [
    {
     "name": "stdout",
     "output_type": "stream",
     "text": [
      "[[0 1 2]\n",
      " [3 4 5]\n",
      " [6 7 8]] \n",
      "\n",
      "[[ 7  8  9]\n",
      " [10 11 12]\n",
      " [13 14 15]]\n"
     ]
    }
   ],
   "source": [
    "o = np.arange(0,9).reshape(3, 3)\n",
    "p = np.arange(7,16).reshape(3,3)\n",
    "print(o, \"\\n\")\n",
    "print(p)"
   ]
  },
  {
   "cell_type": "code",
   "execution_count": 30,
   "id": "70e9faca",
   "metadata": {},
   "outputs": [
    {
     "data": {
      "text/plain": [
       "array([7, 8])"
      ]
     },
     "execution_count": 30,
     "metadata": {},
     "output_type": "execute_result"
    }
   ],
   "source": [
    "np.intersect1d(o, p)"
   ]
  },
  {
   "cell_type": "code",
   "execution_count": null,
   "id": "5ad9f07d",
   "metadata": {},
   "outputs": [],
   "source": [
    "#### 14. Create a random vector of size 10 and sort it (★★☆)"
   ]
  },
  {
   "cell_type": "code",
   "execution_count": 39,
   "id": "f0a2a711",
   "metadata": {},
   "outputs": [
    {
     "name": "stdout",
     "output_type": "stream",
     "text": [
      "[0.96549239 0.35430795 0.9279083  0.47175094 0.15219023 0.83370561\n",
      " 0.5261954  0.53231226 0.4839792  0.04928771]\n"
     ]
    }
   ],
   "source": [
    "r = np.random.random(10)\n",
    "print(r)"
   ]
  },
  {
   "cell_type": "code",
   "execution_count": 40,
   "id": "28369617",
   "metadata": {},
   "outputs": [
    {
     "data": {
      "text/plain": [
       "array([0.04928771, 0.15219023, 0.35430795, 0.47175094, 0.4839792 ,\n",
       "       0.5261954 , 0.53231226, 0.83370561, 0.9279083 , 0.96549239])"
      ]
     },
     "execution_count": 40,
     "metadata": {},
     "output_type": "execute_result"
    }
   ],
   "source": [
    "np.sort(r)"
   ]
  },
  {
   "cell_type": "code",
   "execution_count": null,
   "id": "0ba1f6f1",
   "metadata": {},
   "outputs": [],
   "source": [
    "#### 15. Create random vector of size 10 and replace the maximum value by 0 (★★☆)"
   ]
  },
  {
   "cell_type": "code",
   "execution_count": 53,
   "id": "a4bda438",
   "metadata": {},
   "outputs": [
    {
     "name": "stdout",
     "output_type": "stream",
     "text": [
      "[0.907146   0.38378635 0.92368516 0.55620784 0.44455617 0.47562555\n",
      " 0.29095809 0.65213988 0.43351911 0.95415636]\n"
     ]
    }
   ],
   "source": [
    "s = np.random.random(10)\n",
    "print(s)"
   ]
  },
  {
   "cell_type": "code",
   "execution_count": 56,
   "id": "7f81ac34",
   "metadata": {
    "scrolled": true
   },
   "outputs": [
    {
     "data": {
      "text/plain": [
       "array([0.907146  , 0.38378635, 0.        , 0.55620784, 0.44455617,\n",
       "       0.47562555, 0.29095809, 0.65213988, 0.43351911, 0.        ])"
      ]
     },
     "execution_count": 56,
     "metadata": {},
     "output_type": "execute_result"
    }
   ],
   "source": [
    "s[s.argmax()]=0\n",
    "s"
   ]
  },
  {
   "cell_type": "code",
   "execution_count": null,
   "id": "02c2924c",
   "metadata": {},
   "outputs": [],
   "source": [
    "#### 16. Subtract the mean of each row of a matrix (★★☆)"
   ]
  },
  {
   "cell_type": "code",
   "execution_count": 63,
   "id": "3c938907",
   "metadata": {},
   "outputs": [
    {
     "name": "stdout",
     "output_type": "stream",
     "text": [
      "[[0.90274984 0.16634418 0.56168107]\n",
      " [0.11670586 0.15211499 0.90614594]\n",
      " [0.4248357  0.6075144  0.4315169 ]]\n"
     ]
    }
   ],
   "source": [
    "t = np.random.rand(3,3)\n",
    "print(t)"
   ]
  },
  {
   "cell_type": "code",
   "execution_count": 65,
   "id": "3fac9c0a",
   "metadata": {},
   "outputs": [
    {
     "name": "stdout",
     "output_type": "stream",
     "text": [
      "[[ 0.35915814 -0.37724751  0.01808937]\n",
      " [-0.27494974 -0.23954061  0.51449034]\n",
      " [-0.06311997  0.11955874 -0.05643877]]\n"
     ]
    }
   ],
   "source": [
    "t -= np.mean(t, axis = 1, keepdims = True)\n",
    "print(t)"
   ]
  },
  {
   "cell_type": "code",
   "execution_count": null,
   "id": "2f12b622",
   "metadata": {},
   "outputs": [],
   "source": [
    "#### 17. How to get the n largest values of an array (★★★)"
   ]
  },
  {
   "cell_type": "code",
   "execution_count": null,
   "id": "c010232b",
   "metadata": {},
   "outputs": [],
   "source": [
    "#Z = np.arange(10000)\n",
    "#np.random.shuffle(Z)\n",
    "#n = 5\n",
    "#hint: np.argsort | np.argpartition"
   ]
  },
  {
   "cell_type": "code",
   "execution_count": 80,
   "id": "ef9f4874",
   "metadata": {},
   "outputs": [],
   "source": [
    "Z = np.arange(10000)\n",
    "np.random.shuffle(Z)\n",
    "n = 5"
   ]
  },
  {
   "cell_type": "code",
   "execution_count": 81,
   "id": "50d84015",
   "metadata": {},
   "outputs": [
    {
     "name": "stdout",
     "output_type": "stream",
     "text": [
      "[9995 9996 9997 9998 9999]\n"
     ]
    }
   ],
   "source": [
    "print(Z[np.argsort(Z)[-n:]])"
   ]
  },
  {
   "cell_type": "code",
   "execution_count": null,
   "id": "efc89894",
   "metadata": {},
   "outputs": [],
   "source": [
    "#### 18. Create a random 5*3 matrix and replace items that are larger than 4 by their squares ( Example:  6 --> 36) "
   ]
  },
  {
   "cell_type": "code",
   "execution_count": 94,
   "id": "d6759545",
   "metadata": {},
   "outputs": [
    {
     "name": "stdout",
     "output_type": "stream",
     "text": [
      "[[0.71212995 0.85019677 0.85823126]\n",
      " [0.30165885 0.0554705  0.16013749]\n",
      " [0.78089272 0.42454404 0.54324838]\n",
      " [0.25685382 0.02369191 0.24238906]\n",
      " [0.34274148 0.76487287 0.19688906]]\n"
     ]
    }
   ],
   "source": [
    "w = np.random.rand(5,3)\n",
    "print(w)"
   ]
  },
  {
   "cell_type": "code",
   "execution_count": 95,
   "id": "64121883",
   "metadata": {},
   "outputs": [
    {
     "name": "stdout",
     "output_type": "stream",
     "text": [
      "[[5.07129067e-01 7.22834546e-01 7.36560903e-01]\n",
      " [9.09980631e-02 3.07697610e-03 2.56440156e-02]\n",
      " [6.09793439e-01 1.80237638e-01 2.95118805e-01]\n",
      " [6.59738871e-02 5.61306375e-04 5.87524565e-02]\n",
      " [1.17471719e-01 5.85030513e-01 3.87653027e-02]]\n"
     ]
    }
   ],
   "source": [
    "\n",
    "y = np.where(w < 4, w**2, w)\n",
    "print(y)"
   ]
  }
 ],
 "metadata": {
  "kernelspec": {
   "display_name": "Python 3 (ipykernel)",
   "language": "python",
   "name": "python3"
  },
  "language_info": {
   "codemirror_mode": {
    "name": "ipython",
    "version": 3
   },
   "file_extension": ".py",
   "mimetype": "text/x-python",
   "name": "python",
   "nbconvert_exporter": "python",
   "pygments_lexer": "ipython3",
   "version": "3.9.13"
  }
 },
 "nbformat": 4,
 "nbformat_minor": 5
}
